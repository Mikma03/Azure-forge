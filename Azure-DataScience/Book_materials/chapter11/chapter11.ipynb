{
  "cells": [
    {
      "cell_type": "markdown",
      "metadata": {
        "nteract": {
          "transient": {
            "deleting": false
          }
        }
      },
      "source": [
        "# Chapter 11 code snippets\n",
        "This notebook contains all code snippets from chapter 11."
      ]
    },
    {
      "cell_type": "markdown",
      "metadata": {
        "nteract": {
          "transient": {
            "deleting": false
          }
        }
      },
      "source": [
        "## Authoring a pipeline"
      ]
    },
    {
      "cell_type": "code",
      "execution_count": null,
      "metadata": {
        "collapsed": true,
        "gather": {
          "logged": 1629455845090
        },
        "jupyter": {
          "outputs_hidden": false,
          "source_hidden": false
        },
        "nteract": {
          "transient": {
            "deleting": false
          }
        }
      },
      "outputs": [],
      "source": [
        "from azureml.core import Workspace\n",
        "\n",
        "ws = Workspace.from_config()\n",
        "loans_ds = ws.datasets['loans']\n",
        "compute_target = ws.compute_targets['cpu-sm-cluster']"
      ]
    },
    {
      "cell_type": "code",
      "execution_count": null,
      "metadata": {
        "collapsed": true,
        "gather": {
          "logged": 1629455848609
        },
        "jupyter": {
          "outputs_hidden": false,
          "source_hidden": false
        },
        "nteract": {
          "transient": {
            "deleting": false
          }
        }
      },
      "outputs": [],
      "source": [
        "from azureml.core import RunConfiguration, Environment\n",
        "\n",
        "runconfig = RunConfiguration()\n",
        "runconfig.environment = Environment.get(ws, 'AzureML-lightgbm-3.2-ubuntu18.04-py37-cpu')"
      ]
    },
    {
      "cell_type": "code",
      "execution_count": null,
      "metadata": {
        "collapsed": true,
        "gather": {
          "logged": 1629455850074
        },
        "jupyter": {
          "outputs_hidden": false,
          "source_hidden": false
        },
        "nteract": {
          "transient": {
            "deleting": false
          }
        }
      },
      "outputs": [],
      "source": [
        "from azureml.pipeline.core import PipelineData\n",
        "\n",
        "step01_output = PipelineData(\n",
        "    \"training_data\",\n",
        "    datastore= ws.get_default_datastore(),\n",
        "    is_directory=True\n",
        ")"
      ]
    },
    {
      "cell_type": "code",
      "execution_count": null,
      "metadata": {
        "collapsed": true,
        "gather": {
          "logged": 1629455851849
        },
        "jupyter": {
          "outputs_hidden": false,
          "source_hidden": false
        },
        "nteract": {
          "transient": {
            "deleting": false
          }
        }
      },
      "outputs": [],
      "source": [
        "from azureml.pipeline.steps import PythonScriptStep\n",
        "\n",
        "step_01 = PythonScriptStep(\n",
        "   'prepare_data.py', \n",
        "    source_directory='step01',\n",
        "    arguments = [\n",
        "        \"--dataset\", loans_ds.as_named_input('loans'), \n",
        "        \"--output-path\", step01_output\n",
        "        ],\n",
        "    name='Prepare data',\n",
        "    runconfig=runconfig,\n",
        "    compute_target=compute_target,\n",
        "    outputs=[step01_output],\n",
        "    allow_reuse=True\n",
        ")"
      ]
    },
    {
      "cell_type": "code",
      "execution_count": null,
      "metadata": {
        "collapsed": true,
        "gather": {
          "logged": 1629455853699
        },
        "jupyter": {
          "outputs_hidden": false,
          "source_hidden": false
        },
        "nteract": {
          "transient": {
            "deleting": false
          }
        }
      },
      "outputs": [],
      "source": [
        "from azureml.pipeline.core import PipelineParameter\n",
        "\n",
        "learning_rate_param = PipelineParameter(name=\"learning_rate\", default_value=0.05)"
      ]
    },
    {
      "cell_type": "code",
      "execution_count": null,
      "metadata": {
        "collapsed": true,
        "gather": {
          "logged": 1629455857755
        },
        "jupyter": {
          "outputs_hidden": false,
          "source_hidden": false
        },
        "nteract": {
          "transient": {
            "deleting": false
          }
        }
      },
      "outputs": [],
      "source": [
        "from azureml.data import OutputFileDatasetConfig\n",
        "\n",
        "datastore = ws.get_default_datastore()\n",
        "step02_output = OutputFileDatasetConfig(\n",
        "    name= \"model_store\",\n",
        "    destination=(datastore, '/models/loans/'))"
      ]
    },
    {
      "cell_type": "code",
      "execution_count": null,
      "metadata": {
        "collapsed": true,
        "gather": {
          "logged": 1629455877705
        },
        "jupyter": {
          "outputs_hidden": false,
          "source_hidden": false
        },
        "nteract": {
          "transient": {
            "deleting": false
          }
        }
      },
      "outputs": [],
      "source": [
        "step_02 = PythonScriptStep(\n",
        "   'train_model.py', \n",
        "    source_directory='step02',\n",
        "    arguments=[\n",
        "        \"--learning-rate\", learning_rate_param,\n",
        "        \"--input-path\", step01_output,\n",
        "        \"--output-path\", step02_output\n",
        "        ],\n",
        "    name='Train model',\n",
        "    runconfig=runconfig,\n",
        "    compute_target=compute_target,\n",
        "    inputs=[step01_output],\n",
        "    outputs=[step02_output]\n",
        ")"
      ]
    },
    {
      "cell_type": "code",
      "execution_count": null,
      "metadata": {
        "collapsed": true,
        "gather": {
          "logged": 1629455880607
        },
        "jupyter": {
          "outputs_hidden": false,
          "source_hidden": false
        },
        "nteract": {
          "transient": {
            "deleting": false
          }
        }
      },
      "outputs": [],
      "source": [
        "from azureml.pipeline.core import Pipeline\n",
        "\n",
        "pipeline = Pipeline(workspace=ws, steps=[step_01, step_02])"
      ]
    },
    {
      "cell_type": "code",
      "execution_count": null,
      "metadata": {
        "collapsed": true,
        "gather": {
          "logged": 1629456298670
        },
        "jupyter": {
          "outputs_hidden": false,
          "source_hidden": false
        },
        "nteract": {
          "transient": {
            "deleting": false
          }
        }
      },
      "outputs": [],
      "source": [
        "from azureml.core import Experiment\n",
        "\n",
        "experiment = Experiment(ws, \"chapter-11-runs\")\n",
        "pipeline_run = experiment.submit(\n",
        "    pipeline,\n",
        "    pipeline_parameters= {\n",
        "        \"learning_rate\" : 0.5\n",
        "    }\n",
        ")\n",
        "pipeline_run.wait_for_completion()"
      ]
    },
    {
      "cell_type": "code",
      "execution_count": null,
      "metadata": {
        "collapsed": true,
        "gather": {
          "logged": 1628948820633
        },
        "jupyter": {
          "outputs_hidden": false,
          "source_hidden": false
        },
        "nteract": {
          "transient": {
            "deleting": false
          }
        }
      },
      "outputs": [],
      "source": [
        "# If you wanted to pass the dataset as a pipeline parameter, use the following code\n",
        "# from azureml.data.dataset_consumption_config import DatasetConsumptionConfig\n",
        "# dataset_pipeline_param = PipelineParameter(name=\"dataset_param\", default_value=loans_ds)\n",
        "# dataset_consumption = DatasetConsumptionConfig(\"loans\", dataset_pipeline_param)\n",
        "# step_01 = PythonScriptStep(\n",
        "#    'prepare_data.py', \n",
        "#     source_directory='step01',\n",
        "#     arguments = [\n",
        "#         \"--dataset\", dataset_consumption, \n",
        "#         \"--output-path\", step01_output\n",
        "#         ],\n",
        "#     name='Prepare data',\n",
        "#     runconfig=runconfig,\n",
        "#     compute_target=compute_target,\n",
        "#     outputs=[step01_output],\n",
        "#     allow_reuse=True\n",
        "# )"
      ]
    },
    {
      "cell_type": "markdown",
      "metadata": {
        "nteract": {
          "transient": {
            "deleting": false
          }
        }
      },
      "source": [
        "### Troubleshooting code issues"
      ]
    },
    {
      "cell_type": "code",
      "execution_count": null,
      "metadata": {
        "collapsed": true,
        "gather": {
          "logged": 1628948823611
        },
        "jupyter": {
          "outputs_hidden": false,
          "source_hidden": false
        },
        "nteract": {
          "transient": {
            "deleting": false
          }
        }
      },
      "outputs": [],
      "source": [
        "train_step_run = pipeline_run.find_step_run(\"Train model\")[0]\n",
        "train_step_run.get_details_with_logs()"
      ]
    },
    {
      "cell_type": "markdown",
      "metadata": {
        "nteract": {
          "transient": {
            "deleting": false
          }
        }
      },
      "source": [
        "## Publishing a pipeline to expose it as an endpoint"
      ]
    },
    {
      "cell_type": "code",
      "execution_count": null,
      "metadata": {
        "collapsed": true,
        "gather": {
          "logged": 1628948825587
        },
        "jupyter": {
          "outputs_hidden": false,
          "source_hidden": false
        },
        "nteract": {
          "transient": {
            "deleting": false
          }
        }
      },
      "outputs": [],
      "source": [
        "published_pipeline = pipeline.publish(\n",
        "    \"Loans training pipeline\", \n",
        "    description=\"A pipeline to train a LightGBM model\")"
      ]
    },
    {
      "cell_type": "code",
      "execution_count": null,
      "metadata": {
        "collapsed": true,
        "gather": {
          "logged": 1628948825715
        },
        "jupyter": {
          "outputs_hidden": false,
          "source_hidden": false
        },
        "nteract": {
          "transient": {
            "deleting": false
          }
        }
      },
      "outputs": [],
      "source": [
        "from azureml.core.authentication import InteractiveLoginAuthentication\n",
        "\n",
        "auth = InteractiveLoginAuthentication()\n",
        "aad_token = auth.get_authentication_header()"
      ]
    },
    {
      "cell_type": "code",
      "execution_count": null,
      "metadata": {
        "collapsed": true,
        "gather": {
          "logged": 1628948827184
        },
        "jupyter": {
          "outputs_hidden": false,
          "source_hidden": false
        },
        "nteract": {
          "transient": {
            "deleting": false
          }
        }
      },
      "outputs": [],
      "source": [
        "import requests\n",
        "response = requests.post(published_pipeline.endpoint, \n",
        "                         headers=aad_token, \n",
        "                         json={\"ExperimentName\": \"chapter-11-runs\",\n",
        "                               \"ParameterAssignments\": {\"learning_rate\" : 0.02}})\n",
        "\n",
        "print(f\"Made a POST request to {published_pipeline.endpoint} and got {response.status_code}.\")\n",
        "print(f\"The portal url for the run is {response.json()['RunUrl']}\")"
      ]
    },
    {
      "cell_type": "markdown",
      "metadata": {
        "nteract": {
          "transient": {
            "deleting": false
          }
        }
      },
      "source": [
        "## Scheduling a recuring pipeline"
      ]
    },
    {
      "cell_type": "code",
      "execution_count": null,
      "metadata": {
        "collapsed": true,
        "gather": {
          "logged": 1628948834678
        },
        "jupyter": {
          "outputs_hidden": false,
          "source_hidden": false
        },
        "nteract": {
          "transient": {
            "deleting": false
          }
        }
      },
      "outputs": [],
      "source": [
        "from azureml.pipeline.core.schedule import ScheduleRecurrence, Schedule\n",
        "from datetime import datetime\n",
        "\n",
        "recurrence = ScheduleRecurrence(frequency=\"Month\", \n",
        "                                interval=1, \n",
        "                                start_time = datetime.now())\n",
        "\n",
        "schedule = Schedule.create(workspace=ws, name=\"chapter-11-schedule\",\n",
        "                           pipeline_id=published_pipeline.id, \n",
        "                           experiment_name=\"chapter-11-scheduled-run\",\n",
        "                           recurrence=recurrence,\n",
        "                           wait_for_provisioning=True,\n",
        "                           description=\"Schedule to retrain model\")\n",
        "\n",
        "print(\"Created schedule with id: {}\".format(schedule.id))"
      ]
    },
    {
      "cell_type": "code",
      "execution_count": null,
      "metadata": {
        "collapsed": true,
        "gather": {
          "logged": 1628948850201
        },
        "jupyter": {
          "outputs_hidden": false,
          "source_hidden": false
        },
        "nteract": {
          "transient": {
            "deleting": false
          }
        }
      },
      "outputs": [],
      "source": [
        "from azureml.pipeline.core.schedule import Schedule\n",
        "\n",
        "schedules = Schedule.list(ws, active_only=True) \n",
        "print(\"Your workspace has the following schedules set up:\")\n",
        "for schedule in schedules:\n",
        "    print(f\"Disabling {schedule.id} (Published pipeline: {schedule.pipeline_id}\")\n",
        "    schedule.disable(wait_for_provisioning=True)"
      ]
    }
  ],
  "metadata": {
    "kernel_info": {
      "name": "python3-azureml"
    },
    "kernelspec": {
      "display_name": "Python 3.6 - AzureML",
      "language": "python",
      "name": "python3-azureml"
    },
    "language_info": {
      "codemirror_mode": {
        "name": "ipython",
        "version": 3
      },
      "file_extension": ".py",
      "mimetype": "text/x-python",
      "name": "python",
      "nbconvert_exporter": "python",
      "pygments_lexer": "ipython3",
      "version": "3.6.9"
    },
    "microsoft": {
      "host": {
        "AzureML": {
          "notebookHasBeenCompleted": true
        }
      }
    },
    "nteract": {
      "version": "nteract-front-end@1.0.0"
    }
  },
  "nbformat": 4,
  "nbformat_minor": 2
}
