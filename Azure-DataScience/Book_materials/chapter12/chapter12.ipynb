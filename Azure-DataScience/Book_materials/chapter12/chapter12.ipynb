{
  "cells": [
    {
      "cell_type": "markdown",
      "metadata": {
        "nteract": {
          "transient": {
            "deleting": false
          }
        }
      },
      "source": [
        "# Chapter 12 code snippets\n",
        "This notebook contains all code snippets from chapter 12."
      ]
    },
    {
      "cell_type": "markdown",
      "metadata": {
        "nteract": {
          "transient": {
            "deleting": false
          }
        }
      },
      "source": [
        "## Registering models"
      ]
    },
    {
      "cell_type": "code",
      "execution_count": null,
      "metadata": {
        "collapsed": true,
        "gather": {
          "logged": 1629451722461
        },
        "jupyter": {
          "outputs_hidden": false,
          "source_hidden": false
        },
        "nteract": {
          "transient": {
            "deleting": false
          }
        }
      },
      "outputs": [],
      "source": [
        "from azureml.core import Workspace, Experiment\n",
        "\n",
        "ws = Workspace.from_config()\n",
        "loans_ds = ws.datasets['loans']\n",
        "experiment = Experiment(ws, \"chapter-12-train\")"
      ]
    },
    {
      "cell_type": "code",
      "execution_count": null,
      "metadata": {
        "collapsed": true,
        "gather": {
          "logged": 1629451731251
        },
        "jupyter": {
          "outputs_hidden": false,
          "source_hidden": false
        },
        "nteract": {
          "transient": {
            "deleting": false
          }
        }
      },
      "outputs": [],
      "source": [
        "training_data, validation_data = loans_ds.random_split(\n",
        "                             percentage = 0.8, seed=42)\n",
        "\n",
        "X_train = training_data.drop_columns('approved_loan') \\\n",
        "            .to_pandas_dataframe()\n",
        "y_train = training_data.keep_columns('approved_loan') \\\n",
        "            .to_pandas_dataframe().values.ravel()\n",
        "\n",
        "X_validate = validation_data.drop_columns('approved_loan') \\\n",
        "                .to_pandas_dataframe()\n",
        "y_validate = validation_data.keep_columns('approved_loan') \\\n",
        "                .to_pandas_dataframe().values.ravel()"
      ]
    },
    {
      "cell_type": "code",
      "execution_count": null,
      "metadata": {
        "collapsed": true,
        "gather": {
          "logged": 1629451744731
        },
        "jupyter": {
          "outputs_hidden": false,
          "source_hidden": false
        },
        "nteract": {
          "transient": {
            "deleting": false
          }
        }
      },
      "outputs": [],
      "source": [
        "from sklearn.linear_model import LogisticRegression\n",
        "from sklearn.metrics import accuracy_score\n",
        "\n",
        "run = experiment.start_logging(snapshot_directory=None)\n",
        "\n",
        "sk_model = LogisticRegression()\n",
        "sk_model.fit(X_train, y_train)\n",
        "\n",
        "y_predicted = sk_model.predict(X_validate)\n",
        "accuracy = accuracy_score(y_validate, y_predicted)\n",
        "print(accuracy)\n",
        "\n",
        "run.log(\"accuracy\", accuracy)\n",
        "\n",
        "run.complete()"
      ]
    },
    {
      "cell_type": "code",
      "execution_count": null,
      "metadata": {
        "collapsed": true,
        "gather": {
          "logged": 1629451745085
        },
        "jupyter": {
          "outputs_hidden": false,
          "source_hidden": false
        },
        "nteract": {
          "transient": {
            "deleting": false
          }
        }
      },
      "outputs": [],
      "source": [
        "import os\n",
        "import joblib\n",
        "\n",
        "os.makedirs('./model', exist_ok=True)\n",
        "joblib.dump(value=sk_model,\n",
        "            filename=\n",
        "                os.path.join('./model/','model.joblib'))"
      ]
    },
    {
      "cell_type": "code",
      "execution_count": null,
      "metadata": {
        "collapsed": true,
        "gather": {
          "logged": 1629451870176
        },
        "jupyter": {
          "outputs_hidden": false,
          "source_hidden": false
        },
        "nteract": {
          "transient": {
            "deleting": false
          }
        }
      },
      "outputs": [],
      "source": [
        "from sklearn import __version__ as sk_version\n",
        "from azureml.core import Model\n",
        "\n",
        "run.upload_folder(\"model\", \"./model\")\n",
        "model = run.register_model(\n",
        "        model_name=\"chapter12-loans\",\n",
        "        model_path=\"./model/\",\n",
        "        tags={ \"accuracy\": accuracy},\n",
        "        properties={ \"accuracy\": accuracy},\n",
        "        model_framework= Model.Framework.SCIKITLEARN,\n",
        "        model_framework_version= sk_version,\n",
        "        datasets=[(\"training\", loans_ds)]\n",
        ")\n"
      ]
    },
    {
      "cell_type": "code",
      "execution_count": null,
      "metadata": {
        "collapsed": true,
        "gather": {
          "logged": 1629451875464
        },
        "jupyter": {
          "outputs_hidden": false,
          "source_hidden": false
        },
        "nteract": {
          "transient": {
            "deleting": false
          }
        }
      },
      "outputs": [],
      "source": [
        "from azureml.core import Model\n",
        "offline_model = Model.register(\n",
        "        ws,\n",
        "        model_name=\"chapter12-pre-trained-loans\",\n",
        "        model_path=\"./model/\",\n",
        "        properties={\"accuracy\": 0.828},\n",
        "        model_framework= \"ScikitLearn\",\n",
        "        model_framework_version= \"0.22.2.post1\"\n",
        ")"
      ]
    },
    {
      "cell_type": "code",
      "execution_count": null,
      "metadata": {
        "collapsed": true,
        "gather": {
          "logged": 1629453867241
        },
        "jupyter": {
          "outputs_hidden": false,
          "source_hidden": false
        },
        "nteract": {
          "transient": {
            "deleting": false
          }
        }
      },
      "outputs": [],
      "source": [
        "# This code snippet is from the next section\n",
        "from azureml.core import Model\n",
        "from azureml.core.resource_configuration import ResourceConfiguration\n",
        "\n",
        "model = Model.register(workspace=ws,\n",
        "                       model_name=\"chapter12-demanding-loans\",\n",
        "                       model_path=\"./model/\",\n",
        "                       model_framework=Model.Framework.SCIKITLEARN, \n",
        "                       model_framework_version=\"0.22.2.post1\",\n",
        "                       resource_configuration=ResourceConfiguration(cpu=1, memory_in_gb=1.5))"
      ]
    },
    {
      "cell_type": "code",
      "execution_count": null,
      "metadata": {
        "collapsed": true,
        "gather": {
          "logged": 1629453871180
        },
        "jupyter": {
          "outputs_hidden": false,
          "source_hidden": false
        },
        "nteract": {
          "transient": {
            "deleting": false
          }
        }
      },
      "outputs": [],
      "source": [
        "from sklearn.linear_model import RidgeClassifier\n",
        "\n",
        "new_model = RidgeClassifier(solver='svd')\n",
        "new_model.fit(X_train, y_train)\n",
        "y_predicted = new_model.predict(X_validate)\n",
        "accuracy = accuracy_score(y_validate, y_predicted)\n",
        "\n",
        "registered_model = Model(ws, name=\"chapter12-loans\")\n",
        "r_version = registered_model.version\n",
        "r_acc = float(registered_model.properties['accuracy'])\n",
        "if accuracy > r_acc:\n",
        "    print(f\"New model has better accuracy {accuracy}\")\n",
        "else:\n",
        "    print(f\"Registered model with version {r_version}\" \\\n",
        "           \" has better accuracy {r_acc}\")"
      ]
    },
    {
      "cell_type": "code",
      "execution_count": null,
      "metadata": {
        "collapsed": true,
        "gather": {
          "logged": 1629453979419
        },
        "jupyter": {
          "outputs_hidden": false,
          "source_hidden": false
        },
        "nteract": {
          "transient": {
            "deleting": false
          }
        }
      },
      "outputs": [],
      "source": [
        "import shutil\n",
        "\n",
        "shutil.rmtree('./model',ignore_errors=True)"
      ]
    },
    {
      "cell_type": "markdown",
      "metadata": {
        "nteract": {
          "transient": {
            "deleting": false
          }
        }
      },
      "source": [
        "## Deploying real time endpoints"
      ]
    },
    {
      "cell_type": "code",
      "execution_count": null,
      "metadata": {
        "collapsed": true,
        "gather": {
          "logged": 1629484796751
        },
        "jupyter": {
          "outputs_hidden": false,
          "source_hidden": false
        },
        "nteract": {
          "transient": {
            "deleting": false
          }
        }
      },
      "outputs": [],
      "source": [
        "from azureml.core import Workspace, Model\n",
        "\n",
        "ws = Workspace.from_config()\n",
        "model = Model(ws, name=\"chapter12-loans\")"
      ]
    },
    {
      "cell_type": "code",
      "execution_count": null,
      "metadata": {
        "collapsed": true,
        "gather": {
          "logged": 1629459898670
        },
        "jupyter": {
          "outputs_hidden": false,
          "source_hidden": false
        },
        "nteract": {
          "transient": {
            "deleting": false
          }
        }
      },
      "outputs": [],
      "source": [
        "no_code_service = Model.deploy(ws, \"no-code-loans\", [model])\n",
        "no_code_service.wait_for_deployment(show_output=True)"
      ]
    },
    {
      "cell_type": "code",
      "execution_count": null,
      "metadata": {
        "collapsed": true,
        "gather": {
          "logged": 1629459944769
        },
        "jupyter": {
          "outputs_hidden": false,
          "source_hidden": false
        },
        "nteract": {
          "transient": {
            "deleting": false
          }
        }
      },
      "outputs": [],
      "source": [
        "print(no_code_service.scoring_uri)"
      ]
    },
    {
      "cell_type": "code",
      "execution_count": null,
      "metadata": {
        "collapsed": true,
        "gather": {
          "logged": 1629460777329
        },
        "jupyter": {
          "outputs_hidden": false,
          "source_hidden": false
        },
        "nteract": {
          "transient": {
            "deleting": false
          }
        }
      },
      "outputs": [],
      "source": [
        "import json\n",
        "\n",
        "input_payload = json.dumps({\n",
        "    'data': [\n",
        "        [2000, 2, 45],\n",
        "        [2000, 9, 45]\n",
        "    ],\n",
        "    'method': 'predict' # 'predict_proba'\n",
        "})\n",
        "\n",
        "output = no_code_service.run(input_payload)\n",
        "\n",
        "print(output)"
      ]
    },
    {
      "cell_type": "code",
      "execution_count": null,
      "metadata": {
        "collapsed": true,
        "gather": {
          "logged": 1629465992054
        },
        "jupyter": {
          "outputs_hidden": false,
          "source_hidden": false
        },
        "nteract": {
          "transient": {
            "deleting": false
          }
        }
      },
      "outputs": [],
      "source": [
        "import json\n",
        "\n",
        "# This payload will also work\n",
        "input_payload = json.dumps({\n",
        "    \"data\":[\n",
        "        {\n",
        "            \"income\": 2000,\n",
        "            \"credit_cards\": 2,\n",
        "            \"age\": 45\n",
        "        }\n",
        "    ],\n",
        "    \"method\": \"predict\"\n",
        "})\n",
        "\n",
        "output = no_code_service.run(input_payload)\n",
        "\n",
        "print(output)"
      ]
    },
    {
      "cell_type": "code",
      "execution_count": null,
      "metadata": {
        "collapsed": true,
        "gather": {
          "logged": 1629466096660
        },
        "jupyter": {
          "outputs_hidden": false,
          "source_hidden": false
        },
        "nteract": {
          "transient": {
            "deleting": false
          }
        }
      },
      "outputs": [],
      "source": [
        "no_code_service.delete()"
      ]
    },
    {
      "cell_type": "markdown",
      "metadata": {
        "nteract": {
          "transient": {
            "deleting": false
          }
        }
      },
      "source": [
        "### Understanding the model deployment options"
      ]
    },
    {
      "cell_type": "code",
      "execution_count": null,
      "metadata": {
        "collapsed": true,
        "gather": {
          "logged": 1629484800751
        },
        "jupyter": {
          "outputs_hidden": false,
          "source_hidden": false
        },
        "nteract": {
          "transient": {
            "deleting": false
          }
        }
      },
      "outputs": [],
      "source": [
        "from azureml.core import Environment\n",
        "from azureml.core.conda_dependencies import CondaDependencies \n",
        "import sklearn\n",
        "\n",
        "myEnv= Environment(name=\"sklearn-inference\")\n",
        "myEnv.python.conda_dependencies = CondaDependencies()\n",
        "myEnv.python.conda_dependencies.add_conda_package(f\"scikit-learn=={sklearn.__version__}\")\n",
        "# Based on https://docs.microsoft.com/en-us/azure/machine-learning/how-to-deploy-inferencing-gpus#define-the-conda-environment\n",
        "myEnv.python.conda_dependencies.add_pip_package(\"azureml-defaults>=1.0.45\")"
      ]
    },
    {
      "cell_type": "code",
      "execution_count": null,
      "metadata": {
        "collapsed": true,
        "gather": {
          "logged": 1629478538305
        },
        "jupyter": {
          "outputs_hidden": false,
          "source_hidden": false
        },
        "nteract": {
          "transient": {
            "deleting": false
          }
        }
      },
      "outputs": [],
      "source": [
        "from azureml.core.model import InferenceConfig\n",
        "\n",
        "inference_config = InferenceConfig(source_directory= \"./script\",\n",
        "                      entry_script='score.py', environment=myEnv)"
      ]
    },
    {
      "cell_type": "code",
      "execution_count": null,
      "metadata": {
        "collapsed": true,
        "gather": {
          "logged": 1629479149710
        },
        "jupyter": {
          "outputs_hidden": false,
          "source_hidden": false
        },
        "nteract": {
          "transient": {
            "deleting": false
          }
        }
      },
      "outputs": [],
      "source": [
        "from azureml.core.webservice import AciWebservice\n",
        "\n",
        "deployment_config = AciWebservice.deploy_configuration(cpu_cores=1, memory_gb=1)\n",
        "\n",
        "service = Model.deploy(ws, \"aci-loans\", [model], inference_config, deployment_config)\n",
        "\n",
        "service.wait_for_deployment(show_output=True)"
      ]
    },
    {
      "cell_type": "code",
      "execution_count": null,
      "metadata": {
        "collapsed": true,
        "gather": {
          "logged": 1629479364707
        },
        "jupyter": {
          "outputs_hidden": false,
          "source_hidden": false
        },
        "nteract": {
          "transient": {
            "deleting": false
          }
        }
      },
      "outputs": [],
      "source": [
        "print(service.get_logs()) "
      ]
    },
    {
      "cell_type": "code",
      "execution_count": null,
      "metadata": {
        "collapsed": true,
        "gather": {
          "logged": 1629479641914
        },
        "jupyter": {
          "outputs_hidden": false,
          "source_hidden": false
        },
        "nteract": {
          "transient": {
            "deleting": false
          }
        }
      },
      "outputs": [],
      "source": [
        "import json\n",
        "\n",
        "input_payload = json.dumps({\n",
        "    'data': [[2000, 2, 45]]\n",
        "})\n",
        "\n",
        "output = service.run(input_payload)\n",
        "\n",
        "print(output)"
      ]
    },
    {
      "cell_type": "code",
      "execution_count": null,
      "metadata": {
        "collapsed": true,
        "gather": {
          "logged": 1629479847029
        },
        "jupyter": {
          "outputs_hidden": false,
          "source_hidden": false
        },
        "nteract": {
          "transient": {
            "deleting": false
          }
        }
      },
      "outputs": [],
      "source": [
        "service.delete()"
      ]
    },
    {
      "cell_type": "code",
      "execution_count": null,
      "metadata": {
        "collapsed": true,
        "gather": {
          "logged": 1629479922723
        },
        "jupyter": {
          "outputs_hidden": false,
          "source_hidden": false
        },
        "nteract": {
          "transient": {
            "deleting": false
          }
        }
      },
      "outputs": [],
      "source": [
        "from azureml.core.webservice import LocalWebservice\n",
        "\n",
        "deployment_config = LocalWebservice.deploy_configuration(port=1337)\n",
        "\n",
        "service = Model.deploy(ws, \"local-loans\", [model], inference_config, deployment_config)\n",
        "\n",
        "service.wait_for_deployment()\n",
        "print(\"If you are running this notebook in a compute instance, visit the\")\n",
        "print(\"endpoint at https://<compute instance name>-1337.<azure region>.instances.azureml.ms/\")"
      ]
    },
    {
      "cell_type": "code",
      "execution_count": null,
      "metadata": {
        "collapsed": true,
        "gather": {
          "logged": 1629479992341
        },
        "jupyter": {
          "outputs_hidden": false,
          "source_hidden": false
        },
        "nteract": {
          "transient": {
            "deleting": false
          }
        }
      },
      "outputs": [],
      "source": [
        "service.delete()"
      ]
    },
    {
      "cell_type": "markdown",
      "metadata": {
        "nteract": {
          "transient": {
            "deleting": false
          }
        }
      },
      "source": [
        "### Profiling the model resource requirements"
      ]
    },
    {
      "cell_type": "code",
      "execution_count": null,
      "metadata": {
        "collapsed": true,
        "gather": {
          "logged": 1629480131393
        },
        "jupyter": {
          "outputs_hidden": false,
          "source_hidden": false
        },
        "nteract": {
          "transient": {
            "deleting": false
          }
        }
      },
      "outputs": [],
      "source": [
        "loans_ds = ws.datasets['loans']\n",
        "prof_df = loans_ds.drop_columns('approved_loan') \\\n",
        "                        .to_pandas_dataframe()\n",
        "\n",
        "prof_df['sample_request'] = \\\n",
        "    \"{'data':[[\" + prof_df['income'].map(str) \\\n",
        "  + \",\"+ prof_df['credit_cards'].map(str) \\\n",
        "  + \",\" + prof_df['age'].map(str) + \"]]}\"\n",
        "\n",
        "prof_df = prof_df[['sample_request']]\n",
        "prof_df.head()"
      ]
    },
    {
      "cell_type": "code",
      "execution_count": null,
      "metadata": {
        "collapsed": true,
        "gather": {
          "logged": 1629480141032
        },
        "jupyter": {
          "outputs_hidden": false,
          "source_hidden": false
        },
        "nteract": {
          "transient": {
            "deleting": false
          }
        }
      },
      "outputs": [],
      "source": [
        "from azureml.core import Dataset\n",
        "\n",
        "dstore = ws.get_default_datastore()\n",
        "loan_req_ds = Dataset.Tabular.register_pandas_dataframe(\n",
        "    dataframe=prof_df,\n",
        "    target=(dstore,\"/samples/loans-requests\"),\n",
        "    name=\"loans-requests\",\n",
        "    description=\"Sample requests for the loans model\")"
      ]
    },
    {
      "cell_type": "code",
      "execution_count": null,
      "metadata": {
        "collapsed": true,
        "gather": {
          "logged": 1629480752101
        },
        "jupyter": {
          "outputs_hidden": false,
          "source_hidden": false
        },
        "nteract": {
          "transient": {
            "deleting": false
          }
        }
      },
      "outputs": [],
      "source": [
        "profile = Model.profile(ws,\n",
        "            'chapter12-loan', # Change this to rerun\n",
        "            [model],\n",
        "            inference_config,\n",
        "            input_dataset=loan_req_ds,\n",
        "            cpu=2,\n",
        "            memory_in_gb=1)\n",
        "profile.wait_for_completion(True)\n",
        "print(profile.get_details())"
      ]
    },
    {
      "cell_type": "markdown",
      "metadata": {
        "nteract": {
          "transient": {
            "deleting": false
          }
        }
      },
      "source": [
        "### Monitoring with Application insights"
      ]
    },
    {
      "cell_type": "code",
      "execution_count": null,
      "metadata": {
        "collapsed": true,
        "gather": {
          "logged": 1629481227066
        },
        "jupyter": {
          "outputs_hidden": false,
          "source_hidden": false
        },
        "nteract": {
          "transient": {
            "deleting": false
          }
        }
      },
      "outputs": [],
      "source": [
        "from azureml.core.webservice import AciWebservice\n",
        "\n",
        "deployment_config = AciWebservice.deploy_configuration(cpu_cores=1, memory_gb=0.5, enable_app_insights= True)\n",
        "\n",
        "service = Model.deploy(ws, \"aci-loans\", [model], inference_config, deployment_config)\n",
        "\n",
        "service.wait_for_deployment(show_output=True)"
      ]
    },
    {
      "cell_type": "code",
      "execution_count": null,
      "metadata": {
        "collapsed": true,
        "gather": {
          "logged": 1629481237724
        },
        "jupyter": {
          "outputs_hidden": false,
          "source_hidden": false
        },
        "nteract": {
          "transient": {
            "deleting": false
          }
        }
      },
      "outputs": [],
      "source": [
        "service.update(enable_app_insights=True)"
      ]
    },
    {
      "cell_type": "code",
      "execution_count": null,
      "metadata": {
        "collapsed": true,
        "gather": {
          "logged": 1629481240716
        },
        "jupyter": {
          "outputs_hidden": false,
          "source_hidden": false
        },
        "nteract": {
          "transient": {
            "deleting": false
          }
        }
      },
      "outputs": [],
      "source": [
        "import json\n",
        "\n",
        "input_payload = json.dumps({\n",
        "    'data': [\n",
        "        [2000, 2, 45],\n",
        "        [2000, 9, 45]\n",
        "    ]\n",
        "})\n",
        "\n",
        "for x in range(10):\n",
        "   print(service.run(input_payload))"
      ]
    },
    {
      "cell_type": "code",
      "execution_count": null,
      "metadata": {
        "collapsed": true,
        "gather": {
          "logged": 1629481520919
        },
        "jupyter": {
          "outputs_hidden": false,
          "source_hidden": false
        },
        "nteract": {
          "transient": {
            "deleting": false
          }
        }
      },
      "outputs": [],
      "source": [
        "service.delete()"
      ]
    },
    {
      "cell_type": "markdown",
      "metadata": {
        "nteract": {
          "transient": {
            "deleting": false
          }
        }
      },
      "source": [
        "### Integrating with third party applications"
      ]
    },
    {
      "cell_type": "code",
      "execution_count": null,
      "metadata": {
        "collapsed": true,
        "gather": {
          "logged": 1629485453266
        },
        "jupyter": {
          "outputs_hidden": false,
          "source_hidden": false
        },
        "nteract": {
          "transient": {
            "deleting": false
          }
        }
      },
      "outputs": [],
      "source": [
        "from azureml.core.model import InferenceConfig\n",
        "from azureml.core.webservice import AciWebservice\n",
        "\n",
        "myEnv.python.conda_dependencies.add_pip_package(\"inference_schema[pandas-support]>=1.1.0\")\n",
        "inference_config = InferenceConfig(source_directory= \"./script\",\n",
        "                      entry_script='score_v2.py', environment=myEnv)\n",
        "deployment_config = AciWebservice.deploy_configuration(cpu_cores=1, memory_gb=0.5)\n",
        "service = Model.deploy(ws, \"aci-loans\", [model], inference_config, deployment_config)\n",
        "service.wait_for_deployment(show_output=True)"
      ]
    },
    {
      "cell_type": "code",
      "execution_count": null,
      "metadata": {
        "collapsed": true,
        "gather": {
          "logged": 1629485660387
        },
        "jupyter": {
          "outputs_hidden": false,
          "source_hidden": false
        },
        "nteract": {
          "transient": {
            "deleting": false
          }
        }
      },
      "outputs": [],
      "source": [
        "import json\n",
        "\n",
        "service = ws.webservices['aci-loans']\n",
        "\n",
        "input_payload = json.dumps({\n",
        "    \"data\":[\n",
        "        {\n",
        "            \"income\": 2000,\n",
        "            \"credit_cards\": 2,\n",
        "            \"age\": 45\n",
        "        },\n",
        "        {\n",
        "            \"income\": 2000,\n",
        "            \"credit_cards\": 9,\n",
        "            \"age\": 45\n",
        "        }\n",
        "    ]\n",
        "})\n",
        "print(service.run(input_payload))\n",
        "\n",
        "input_payload = json.dumps({\n",
        "    'data': [\n",
        "        [2000, 2, 45],\n",
        "        [2000, 9, 45]\n",
        "    ]\n",
        "})\n",
        "print(service.run(input_payload))"
      ]
    },
    {
      "cell_type": "code",
      "execution_count": null,
      "metadata": {
        "collapsed": true,
        "gather": {
          "logged": 1629485724079
        },
        "jupyter": {
          "outputs_hidden": false,
          "source_hidden": false
        },
        "nteract": {
          "transient": {
            "deleting": false
          }
        }
      },
      "outputs": [],
      "source": [
        "service.delete()"
      ]
    },
    {
      "cell_type": "markdown",
      "metadata": {
        "nteract": {
          "transient": {
            "deleting": false
          }
        }
      },
      "source": [
        "## Creating a batch inference pipeline"
      ]
    },
    {
      "cell_type": "code",
      "execution_count": null,
      "metadata": {
        "collapsed": true,
        "gather": {
          "logged": 1629487835909
        },
        "jupyter": {
          "outputs_hidden": false,
          "source_hidden": false
        },
        "nteract": {
          "transient": {
            "deleting": false
          }
        }
      },
      "outputs": [],
      "source": [
        "from azureml.core import Workspace\n",
        "\n",
        "ws = Workspace.from_config()\n",
        "loans_ds = ws.datasets['loans']\n",
        "compute_target = ws.compute_targets['cpu-sm-cluster']"
      ]
    },
    {
      "cell_type": "code",
      "execution_count": null,
      "metadata": {
        "collapsed": true,
        "gather": {
          "logged": 1629487840882
        },
        "jupyter": {
          "outputs_hidden": false,
          "source_hidden": false
        },
        "nteract": {
          "transient": {
            "deleting": false
          }
        }
      },
      "outputs": [],
      "source": [
        "from azureml.core import Dataset\n",
        "\n",
        "loans_df = loans_ds.drop_columns('approved_loan').to_pandas_dataframe()\n",
        "\n",
        "print(f\"Original DataFrame's size {loans_df.memory_usage(deep=True).sum()}\")\n",
        "\n",
        "for x in range(10):\n",
        "    loans_df = loans_df.append(loans_df)\n",
        "    \n",
        "print(f\"Expanded DataFrame's size {loans_df.memory_usage(deep=True).sum()}\")\n",
        "\n",
        "dstore = ws.get_default_datastore()\n",
        "pending_loans_ds = Dataset.Tabular.register_pandas_dataframe(\n",
        "    dataframe=loans_df,\n",
        "    target=(dstore,\"/samples/pending-loans\"),\n",
        "    name=\"pending-loans\",\n",
        "    description=\"Pending loans to be processed\")"
      ]
    },
    {
      "cell_type": "code",
      "execution_count": null,
      "metadata": {
        "collapsed": true,
        "gather": {
          "logged": 1629487841222
        },
        "jupyter": {
          "outputs_hidden": false,
          "source_hidden": false
        },
        "nteract": {
          "transient": {
            "deleting": false
          }
        }
      },
      "outputs": [],
      "source": [
        "from azureml.core import Environment\n",
        "from azureml.core.conda_dependencies import CondaDependencies \n",
        "import sklearn\n",
        "\n",
        "pEnv= Environment(name=\"sklearn-parallel\")\n",
        "pEnv.python.conda_dependencies = CondaDependencies()\n",
        "pEnv.python.conda_dependencies.add_conda_package(f\"scikit-learn=={sklearn.__version__}\")\n",
        "pEnv.python.conda_dependencies.add_pip_package(\"azureml-core\")\n",
        "pEnv.python.conda_dependencies.add_pip_package(\"azureml-dataset-runtime[pandas,fuse]\")"
      ]
    },
    {
      "cell_type": "code",
      "execution_count": null,
      "metadata": {
        "collapsed": true,
        "gather": {
          "logged": 1629487842315
        },
        "jupyter": {
          "outputs_hidden": false,
          "source_hidden": false
        },
        "nteract": {
          "transient": {
            "deleting": false
          }
        }
      },
      "outputs": [],
      "source": [
        "from azureml.pipeline.steps import ParallelRunConfig\n",
        "\n",
        "parallel_run_config = ParallelRunConfig(\n",
        "    source_directory='pipeline_step',\n",
        "    entry_script='tabular_batch.py',\n",
        "    mini_batch_size='100Kb',\n",
        "    error_threshold=-1,\n",
        "    output_action='append_row',\n",
        "    append_row_file_name=\"loans_outputs.txt\",\n",
        "    environment=pEnv,\n",
        "    compute_target=compute_target, \n",
        "    node_count=1,\n",
        "    process_count_per_node=2,\n",
        "    run_invocation_timeout=600\n",
        ")"
      ]
    },
    {
      "cell_type": "code",
      "execution_count": null,
      "metadata": {
        "collapsed": true,
        "gather": {
          "logged": 1629487844928
        },
        "jupyter": {
          "outputs_hidden": false,
          "source_hidden": false
        },
        "nteract": {
          "transient": {
            "deleting": false
          }
        }
      },
      "outputs": [],
      "source": [
        "from azureml.data import OutputFileDatasetConfig\n",
        "\n",
        "datastore = ws.get_default_datastore()\n",
        "step_output = OutputFileDatasetConfig(\n",
        "    name= \"results_store\",\n",
        "    destination=(datastore, '/inferences/loans/'))"
      ]
    },
    {
      "cell_type": "code",
      "execution_count": null,
      "metadata": {
        "collapsed": true,
        "gather": {
          "logged": 1629487847897
        },
        "jupyter": {
          "outputs_hidden": false,
          "source_hidden": false
        },
        "nteract": {
          "transient": {
            "deleting": false
          }
        }
      },
      "outputs": [],
      "source": [
        "from azureml.pipeline.steps import ParallelRunStep\n",
        "\n",
        "parallel_step = ParallelRunStep(\n",
        "    name='chapter12-parallel-loans',\n",
        "    inputs=[pending_loans_ds.as_named_input('loans')],\n",
        "    output=step_output,\n",
        "    parallel_run_config=parallel_run_config,\n",
        "    allow_reuse=False\n",
        ")"
      ]
    },
    {
      "cell_type": "code",
      "execution_count": null,
      "metadata": {
        "collapsed": true,
        "gather": {
          "logged": 1629487857735
        },
        "jupyter": {
          "outputs_hidden": false,
          "source_hidden": false
        },
        "nteract": {
          "transient": {
            "deleting": false
          }
        }
      },
      "outputs": [],
      "source": [
        "from azureml.core import Experiment\n",
        "from azureml.pipeline.core import Pipeline\n",
        "\n",
        "pipeline = Pipeline(workspace=ws, steps=[parallel_step])\n",
        "\n",
        "pipeline_run = Experiment(ws, 'chapter12-parallel-run').submit(pipeline)"
      ]
    },
    {
      "cell_type": "code",
      "execution_count": null,
      "metadata": {
        "collapsed": true,
        "gather": {
          "logged": 1629487861384
        },
        "jupyter": {
          "outputs_hidden": false,
          "source_hidden": false
        },
        "nteract": {
          "transient": {
            "deleting": false
          }
        }
      },
      "outputs": [],
      "source": [
        "from azureml.widgets import RunDetails\n",
        "\n",
        "RunDetails(pipeline_run).show()"
      ]
    },
    {
      "cell_type": "code",
      "execution_count": null,
      "metadata": {
        "collapsed": true,
        "gather": {
          "logged": 1629489063196
        },
        "jupyter": {
          "outputs_hidden": false,
          "source_hidden": false
        },
        "nteract": {
          "transient": {
            "deleting": false
          }
        }
      },
      "outputs": [],
      "source": [
        "pipeline_run.wait_for_completion(show_output=True)"
      ]
    }
  ],
  "metadata": {
    "kernel_info": {
      "name": "python3-azureml"
    },
    "kernelspec": {
      "display_name": "Python 3.6 - AzureML",
      "language": "python",
      "name": "python3-azureml"
    },
    "language_info": {
      "codemirror_mode": {
        "name": "ipython",
        "version": 3
      },
      "file_extension": ".py",
      "mimetype": "text/x-python",
      "name": "python",
      "nbconvert_exporter": "python",
      "pygments_lexer": "ipython3",
      "version": "3.6.9"
    },
    "microsoft": {
      "host": {
        "AzureML": {
          "notebookHasBeenCompleted": true
        }
      }
    },
    "nteract": {
      "version": "nteract-front-end@1.0.0"
    }
  },
  "nbformat": 4,
  "nbformat_minor": 2
}
