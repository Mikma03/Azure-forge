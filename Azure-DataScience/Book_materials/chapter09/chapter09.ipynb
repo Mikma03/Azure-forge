{
  "cells": [
    {
      "cell_type": "markdown",
      "metadata": {
        "nteract": {
          "transient": {
            "deleting": false
          }
        }
      },
      "source": [
        "# Chapter 09 code snippets\n",
        "This notebook contains all code snippets from chapter 9."
      ]
    },
    {
      "cell_type": "markdown",
      "metadata": {
        "nteract": {
          "transient": {
            "deleting": false
          }
        }
      },
      "source": [
        "## Hyperparameter tuning using HyperDrive"
      ]
    },
    {
      "cell_type": "code",
      "execution_count": null,
      "metadata": {
        "collapsed": true,
        "gather": {
          "logged": 1630833774903
        },
        "jupyter": {
          "outputs_hidden": false,
          "source_hidden": false
        },
        "nteract": {
          "transient": {
            "deleting": false
          }
        }
      },
      "outputs": [],
      "source": [
        "from azureml.core import (\n",
        "    Workspace, Environment\n",
        ")\n",
        "from azureml.core.conda_dependencies import \\\n",
        "     CondaDependencies \n",
        "import sklearn\n",
        "\n",
        "ws = Workspace.from_config()\n",
        "\n",
        "diabetes_env = Environment(name=\"diabetes-training-env\")\n",
        "diabetes_env.python.conda_dependencies = \\\n",
        "     CondaDependencies.create(\n",
        "      conda_packages=[\n",
        "          f\"scikit-learn=={sklearn.__version__}\"],\n",
        "      pip_packages=[\"azureml-core\", \n",
        "          \"azureml-dataset-runtime[pandas]\"])\n",
        "\n",
        "target = ws.compute_targets['cpu-sm-cluster']"
      ]
    },
    {
      "cell_type": "code",
      "execution_count": null,
      "metadata": {
        "gather": {
          "logged": 1630833776378
        },
        "jupyter": {
          "outputs_hidden": false,
          "source_hidden": false
        },
        "nteract": {
          "transient": {
            "deleting": false
          }
        }
      },
      "outputs": [],
      "source": [
        "from azureml.core import ScriptRunConfig\n",
        "\n",
        "script = ScriptRunConfig(\n",
        "    source_directory='diabetes-training',\n",
        "    script='training.py',\n",
        "    environment=diabetes_env,\n",
        "    compute_target=target\n",
        ")\n",
        "# Note that you don't specify the --alpha argument."
      ]
    },
    {
      "cell_type": "code",
      "execution_count": null,
      "metadata": {
        "collapsed": true,
        "gather": {
          "logged": 1630833778917
        },
        "jupyter": {
          "outputs_hidden": false,
          "source_hidden": false
        },
        "nteract": {
          "transient": {
            "deleting": false
          }
        }
      },
      "outputs": [],
      "source": [
        "from azureml.train.hyperdrive import HyperDriveConfig\n",
        "from azureml.train.hyperdrive import (\n",
        "    RandomParameterSampling, uniform, PrimaryMetricGoal\n",
        ")\n",
        "\n",
        "param_sampling = RandomParameterSampling({\n",
        "        'alpha': uniform(0.00001, 0.1),\n",
        "    }\n",
        ")\n",
        "\n",
        "hd_config = HyperDriveConfig(\n",
        "                     run_config=script,                          \n",
        "                     hyperparameter_sampling=param_sampling,\n",
        "                     primary_metric_name=\"nrmse\", \n",
        "                     primary_metric_goal=                   \n",
        "                                 PrimaryMetricGoal.MINIMIZE,\n",
        "                     max_total_runs=20,\n",
        "                     max_concurrent_runs=4)"
      ]
    },
    {
      "cell_type": "code",
      "execution_count": null,
      "metadata": {
        "gather": {
          "logged": 1630834973358
        },
        "jupyter": {
          "outputs_hidden": false,
          "source_hidden": false
        },
        "nteract": {
          "transient": {
            "deleting": false
          }
        }
      },
      "outputs": [],
      "source": [
        "from azureml.core import Experiment\n",
        "\n",
        "experiment = Experiment(ws, \"chapter09-hyperdrive\")\n",
        "hyperdrive_run = experiment.submit(hd_config)\n",
        "\n",
        "hyperdrive_run.wait_for_completion(show_output=True)"
      ]
    },
    {
      "cell_type": "code",
      "execution_count": null,
      "metadata": {
        "collapsed": true,
        "gather": {
          "logged": 1630834974037
        },
        "jupyter": {
          "outputs_hidden": false,
          "source_hidden": false
        },
        "nteract": {
          "transient": {
            "deleting": false
          }
        }
      },
      "outputs": [],
      "source": [
        "best_run = hyperdrive_run.get_best_run_by_primary_metric()\n",
        "best_run_metrics = best_run.get_metrics(name='nrmse')\n",
        "parameter_values = best_run.get_details()[\n",
        "                        'runDefinition']['arguments']\n",
        "\n",
        "print('Best Run Id: ', best_run.id)\n",
        "print('- NRMSE:', best_run_metrics['nrmse'])\n",
        "print('- alpha:', parameter_values[1])"
      ]
    },
    {
      "cell_type": "markdown",
      "metadata": {
        "nteract": {
          "transient": {
            "deleting": false
          }
        }
      },
      "source": [
        "### Using the early termination policy"
      ]
    },
    {
      "cell_type": "code",
      "execution_count": null,
      "metadata": {
        "collapsed": true,
        "gather": {
          "logged": 1630822462208
        },
        "jupyter": {
          "outputs_hidden": false,
          "source_hidden": false
        },
        "nteract": {
          "transient": {
            "deleting": false
          }
        }
      },
      "outputs": [],
      "source": [
        "from azureml.core import Workspace, ScriptRunConfig, Environment\n",
        "\n",
        "ws = Workspace.from_config()\n",
        "target = ws.compute_targets[\"cpu-sm-cluster\"]\n",
        "\n",
        "script = ScriptRunConfig(\n",
        "    source_directory=\"termination-policy-training\",\n",
        "    script=\"training.py\",\n",
        "    environment=Environment.get(ws, \"AzureML-Minimal\"),\n",
        "    compute_target=target,\n",
        ")"
      ]
    },
    {
      "cell_type": "code",
      "execution_count": null,
      "metadata": {
        "gather": {
          "logged": 1630822463391
        },
        "jupyter": {
          "outputs_hidden": false,
          "source_hidden": false
        },
        "nteract": {
          "transient": {
            "deleting": false
          }
        }
      },
      "outputs": [],
      "source": [
        "from azureml.train.hyperdrive import (\n",
        "    GridParameterSampling,    \n",
        "    choice,\n",
        "    MedianStoppingPolicy,\n",
        "    HyperDriveConfig,\n",
        "    PrimaryMetricGoal\n",
        ")\n",
        "param_sampling = GridParameterSampling(\n",
        "    {\n",
        "        \"a\": choice(1, 2, 3, 4),\n",
        "        \"b\": choice(1, 2, 3, 4),\n",
        "    }\n",
        ")\n",
        "\n",
        "early_termination_policy = MedianStoppingPolicy(\n",
        "    evaluation_interval=1, delay_evaluation=5\n",
        ")\n",
        "\n",
        "# More aggressive alternative\n",
        "# from azureml.train.hyperdrive import TruncationSelectionPolicy\n",
        "# early_termination_policy = TruncationSelectionPolicy(\n",
        "#    truncation_percentage=50, evaluation_interval=1\n",
        "#)\n",
        "\n",
        "hd_config = HyperDriveConfig(\n",
        "    policy=early_termination_policy,\n",
        "    run_config=script,\n",
        "    hyperparameter_sampling=param_sampling,\n",
        "    primary_metric_name=\"fake_metric\",\n",
        "    primary_metric_goal=PrimaryMetricGoal.MAXIMIZE,\n",
        "    max_total_runs=50,\n",
        "    max_concurrent_runs=4\n",
        ")"
      ]
    },
    {
      "cell_type": "code",
      "execution_count": null,
      "metadata": {
        "gather": {
          "logged": 1630823351465
        },
        "jupyter": {
          "outputs_hidden": false,
          "source_hidden": false
        },
        "nteract": {
          "transient": {
            "deleting": false
          }
        }
      },
      "outputs": [],
      "source": [
        "from azureml.core import Experiment\n",
        "experiment = Experiment(ws, \"chapter09-hyperdrive\")\n",
        "hyperdrive_run = experiment.submit(hd_config)\n",
        "\n",
        "hyperdrive_run.wait_for_completion(show_output=True)"
      ]
    },
    {
      "cell_type": "markdown",
      "metadata": {
        "nteract": {
          "transient": {
            "deleting": false
          }
        }
      },
      "source": [
        "## Running AutoML experiments via code"
      ]
    },
    {
      "cell_type": "code",
      "execution_count": null,
      "metadata": {
        "collapsed": true,
        "gather": {
          "logged": 1628352313404
        },
        "jupyter": {
          "outputs_hidden": false,
          "source_hidden": false
        },
        "nteract": {
          "transient": {
            "deleting": false
          }
        }
      },
      "outputs": [],
      "source": [
        "from azureml.core import Workspace, Dataset\n",
        "from azureml.train.automl import AutoMLConfig\n",
        "\n",
        "ws = Workspace.from_config()\n",
        "compute_target = ws.compute_targets[\"cpu-sm-cluster\"]\n",
        "\n",
        "diabetes_dataset = Dataset.get_by_name(workspace=ws, name='diabetes')\n",
        "\n",
        "train_ds,validate_ds = diabetes_dataset.random_split(percentage=0.8, seed=1337)\n",
        "\n",
        "print(f\"Train: {len(train_ds.to_pandas_dataframe().axes[0])} rows\")\n",
        "print(f\"Validate: {len(validate_ds.to_pandas_dataframe().axes[0])} rows\")\n",
        "\n",
        "experiment_config = AutoMLConfig(\n",
        "    task = \"regression\",\n",
        "    primary_metric = 'normalized_root_mean_squared_error',\n",
        "    training_data = train_ds,\n",
        "    label_column_name = \"target\",\n",
        "    validation_data = validate_ds,\n",
        "    compute_target = compute_target,\n",
        "    experiment_timeout_hours = 0.25,\n",
        "    iterations = 4\n",
        ")"
      ]
    },
    {
      "cell_type": "code",
      "execution_count": null,
      "metadata": {
        "collapsed": true,
        "gather": {
          "logged": 1628353037974
        },
        "jupyter": {
          "outputs_hidden": false,
          "source_hidden": false
        },
        "nteract": {
          "transient": {
            "deleting": false
          }
        }
      },
      "outputs": [],
      "source": [
        "from azureml.core.experiment import Experiment\n",
        "\n",
        "my_experiment = Experiment(ws, 'chapter09-automl-experiment')\n",
        "run = my_experiment.submit(experiment_config, show_output=True)"
      ]
    },
    {
      "cell_type": "code",
      "execution_count": null,
      "metadata": {
        "collapsed": true,
        "gather": {
          "logged": 1628353526686
        },
        "jupyter": {
          "outputs_hidden": false,
          "source_hidden": false
        },
        "nteract": {
          "transient": {
            "deleting": false
          }
        }
      },
      "outputs": [],
      "source": [
        "# To retrieve a previous run \n",
        "# from azureml.train.automl.run import AutoMLRun\n",
        "# run = AutoMLRun(my_experiment, run_id = 'AutoML_80833402-6e7e-4c25-b6aa-b6fd44d75d09')\n",
        "\n",
        "# Get best run and model\n",
        "best_run, best_model = run.get_output()\n",
        "# Or with index\n",
        "best_run = run.get_output()[0]\n",
        "best_model = run.get_output()[1]\n"
      ]
    },
    {
      "cell_type": "code",
      "execution_count": null,
      "metadata": {
        "collapsed": true,
        "gather": {
          "logged": 1628353536565
        },
        "jupyter": {
          "outputs_hidden": false,
          "source_hidden": false
        },
        "nteract": {
          "transient": {
            "deleting": false
          }
        }
      },
      "outputs": [],
      "source": [
        "# Scaling/normalization and model algorythm\n",
        "best_model.steps"
      ]
    },
    {
      "cell_type": "code",
      "execution_count": null,
      "metadata": {
        "collapsed": true,
        "gather": {
          "logged": 1628353547828
        },
        "jupyter": {
          "outputs_hidden": false,
          "source_hidden": false
        },
        "nteract": {
          "transient": {
            "deleting": false
          }
        }
      },
      "outputs": [],
      "source": [
        "# Automated feature engineering\n",
        "# Use 'timeseriestransformer' for task='forecasting',\n",
        "# else use 'datatransformer' for 'regression' or 'classification' task.\n",
        "print(best_model.named_steps['datatransformer'] \\\n",
        "                 .get_featurization_summary())\n",
        "feature_names=best_model.named_steps['datatransformer'] \\\n",
        "                 .get_engineered_feature_names()\n",
        "print(\"Engineered feature names:\")\n",
        "print(feature_names)"
      ]
    }
  ],
  "metadata": {
    "kernel_info": {
      "name": "python3-azureml"
    },
    "kernelspec": {
      "display_name": "Python 3.6 - AzureML",
      "language": "python",
      "name": "python3-azureml"
    },
    "language_info": {
      "codemirror_mode": {
        "name": "ipython",
        "version": 3
      },
      "file_extension": ".py",
      "mimetype": "text/x-python",
      "name": "python",
      "nbconvert_exporter": "python",
      "pygments_lexer": "ipython3",
      "version": "3.6.9"
    },
    "microsoft": {
      "host": {
        "AzureML": {
          "notebookHasBeenCompleted": true
        }
      }
    },
    "nteract": {
      "version": "nteract-front-end@1.0.0"
    }
  },
  "nbformat": 4,
  "nbformat_minor": 2
}
