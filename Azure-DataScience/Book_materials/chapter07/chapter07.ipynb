{
  "cells": [
    {
      "cell_type": "markdown",
      "source": [
        "# Chapter 07 code snippets\r\n",
        "This notebook contains all code snippets from chapter 7."
      ],
      "metadata": {
        "nteract": {
          "transient": {
            "deleting": false
          }
        }
      }
    },
    {
      "cell_type": "code",
      "source": [
        "print('Hello world')"
      ],
      "outputs": [],
      "execution_count": null,
      "metadata": {
        "collapsed": true,
        "jupyter": {
          "source_hidden": false,
          "outputs_hidden": false
        },
        "nteract": {
          "transient": {
            "deleting": false
          }
        },
        "gather": {
          "logged": 1627325589298
        }
      }
    },
    {
      "cell_type": "code",
      "source": [
        "# Error message output\r\n",
        "invalid_result = 0/0"
      ],
      "outputs": [],
      "execution_count": null,
      "metadata": {
        "collapsed": true,
        "jupyter": {
          "source_hidden": false,
          "outputs_hidden": false
        },
        "nteract": {
          "transient": {
            "deleting": false
          }
        }
      }
    },
    {
      "cell_type": "markdown",
      "source": [
        "## Basic coding with the AzureML SDK"
      ],
      "metadata": {
        "nteract": {
          "transient": {
            "deleting": false
          }
        }
      }
    },
    {
      "cell_type": "code",
      "source": [
        "raise NotImplementedError(\"Please comment out this line and update the values below\")\r\n",
        "subscription_id = '<subscription id>'\r\n",
        "resource_group = 'packt-azureml-rg'\r\n",
        "workspace_name = 'packt-learning-mlw'"
      ],
      "outputs": [],
      "execution_count": null,
      "metadata": {
        "collapsed": true,
        "jupyter": {
          "source_hidden": false,
          "outputs_hidden": false
        },
        "nteract": {
          "transient": {
            "deleting": false
          }
        },
        "gather": {
          "logged": 1627325596715
        }
      }
    },
    {
      "cell_type": "code",
      "source": [
        "from azureml.core import Workspace\r\n",
        "\r\n",
        "ws = Workspace(subscription_id, resource_group, workspace_name)"
      ],
      "outputs": [],
      "execution_count": null,
      "metadata": {
        "collapsed": true,
        "jupyter": {
          "source_hidden": false,
          "outputs_hidden": false
        },
        "nteract": {
          "transient": {
            "deleting": false
          }
        },
        "gather": {
          "logged": 1627325610413
        }
      }
    },
    {
      "cell_type": "code",
      "source": [
        "from azureml.core import Workspace\r\n",
        "\r\n",
        "ws = Workspace.get(name=workspace_name,\r\n",
        "                   subscription_id=subscription_id,\r\n",
        "                   resource_group=resource_group)"
      ],
      "outputs": [],
      "execution_count": null,
      "metadata": {
        "collapsed": true,
        "jupyter": {
          "source_hidden": false,
          "outputs_hidden": false
        },
        "nteract": {
          "transient": {
            "deleting": false
          }
        },
        "gather": {
          "logged": 1627325706444
        }
      }
    },
    {
      "cell_type": "code",
      "source": [
        "from azureml.core import Workspace\r\n",
        "\r\n",
        "ws = Workspace.from_config()\r\n",
        "print(f\"Connected to workspace {ws.name}\")"
      ],
      "outputs": [],
      "execution_count": null,
      "metadata": {
        "collapsed": true,
        "jupyter": {
          "source_hidden": false,
          "outputs_hidden": false
        },
        "nteract": {
          "transient": {
            "deleting": false
          }
        },
        "gather": {
          "logged": 1627327072777
        }
      }
    },
    {
      "cell_type": "code",
      "source": [
        "from azureml.core import Workspace\r\n",
        "\r\n",
        "new_ws = Workspace.create(\r\n",
        "               name='packt-azureml-sdk-mlw',\r\n",
        "               subscription_id=subscription_id,\r\n",
        "               resource_group='packt-azureml-sdk-rg',\r\n",
        "               create_resource_group=True,\r\n",
        "               location='westeurope')"
      ],
      "outputs": [],
      "execution_count": null,
      "metadata": {
        "collapsed": true,
        "jupyter": {
          "source_hidden": false,
          "outputs_hidden": false
        },
        "nteract": {
          "transient": {
            "deleting": false
          }
        },
        "gather": {
          "logged": 1627325787890
        }
      }
    },
    {
      "cell_type": "code",
      "source": [
        "new_ws.delete(delete_dependent_resources=True)"
      ],
      "outputs": [],
      "execution_count": null,
      "metadata": {
        "collapsed": true,
        "jupyter": {
          "source_hidden": false,
          "outputs_hidden": false
        },
        "nteract": {
          "transient": {
            "deleting": false
          }
        },
        "gather": {
          "logged": 1627326106875
        }
      }
    },
    {
      "cell_type": "markdown",
      "source": [
        "### Authenticating from your device"
      ],
      "metadata": {
        "nteract": {
          "transient": {
            "deleting": false
          }
        }
      }
    },
    {
      "cell_type": "code",
      "source": [
        "from azureml.core.authentication import InteractiveLoginAuthentication\r\n",
        "\r\n",
        "interactive_auth = InteractiveLoginAuthentication(tenant_id=\"<AAD tenant id>\")"
      ],
      "outputs": [],
      "execution_count": null,
      "metadata": {
        "collapsed": true,
        "jupyter": {
          "source_hidden": false,
          "outputs_hidden": false
        },
        "nteract": {
          "transient": {
            "deleting": false
          }
        },
        "gather": {
          "logged": 1627325677873
        }
      }
    },
    {
      "cell_type": "markdown",
      "source": [
        "### Working with compute targets"
      ],
      "metadata": {
        "nteract": {
          "transient": {
            "deleting": false
          }
        }
      }
    },
    {
      "cell_type": "code",
      "source": [
        "from azureml.core import Workspace\r\n",
        "\r\n",
        "ws = Workspace.from_config()\r\n",
        "print(f\"Connected to workspace {ws.name}\")"
      ],
      "outputs": [],
      "execution_count": null,
      "metadata": {
        "collapsed": true,
        "jupyter": {
          "source_hidden": false,
          "outputs_hidden": false
        },
        "nteract": {
          "transient": {
            "deleting": false
          }
        },
        "gather": {
          "logged": 1627327827448
        }
      }
    },
    {
      "cell_type": "code",
      "source": [
        "for compute_name in ws.compute_targets:\r\n",
        "    compute = ws.compute_targets[compute_name]\r\n",
        "    print(f\"Compute {compute.name} is a {type(compute)}\")"
      ],
      "outputs": [],
      "execution_count": null,
      "metadata": {
        "collapsed": true,
        "jupyter": {
          "source_hidden": false,
          "outputs_hidden": false
        },
        "nteract": {
          "transient": {
            "deleting": false
          }
        },
        "gather": {
          "logged": 1627327831766
        }
      }
    },
    {
      "cell_type": "code",
      "source": [
        "from azureml.core import ComputeTarget\r\n",
        "from azureml.exceptions import ComputeTargetException\r\n",
        "\r\n",
        "compute_name = 'gpu-cluster'\r\n",
        "compute = None\r\n",
        "try:\r\n",
        "    compute = ComputeTarget(workspace=ws, name=compute_name)\r\n",
        "    print(f\"Found {compute_name} which is {type(compute)}\")\r\n",
        "except ComputeTargetException as e:\r\n",
        "    print(f\"Failed to get compute {compute_name}. Error: {e}\")\r\n"
      ],
      "outputs": [],
      "execution_count": null,
      "metadata": {
        "collapsed": true,
        "jupyter": {
          "source_hidden": false,
          "outputs_hidden": false
        },
        "nteract": {
          "transient": {
            "deleting": false
          }
        },
        "gather": {
          "logged": 1627328790647
        }
      }
    },
    {
      "cell_type": "code",
      "source": [
        "from azureml.core.compute import ComputeTarget, AmlCompute\r\n",
        "\r\n",
        "compute_name = 'cpu-sm-cluster'\r\n",
        "cluster = None\r\n",
        "\r\n",
        "if compute_name in ws.compute_targets:\r\n",
        "    print('Getting reference to compute cluster')\r\n",
        "    cluster = ws.compute_targets[compute_name]\r\n",
        "else:\r\n",
        "    print('Creating compute cluster')\r\n",
        "    config = AmlCompute.provisioning_configuration(\r\n",
        "                           vm_size='Standard_D1', \r\n",
        "                           max_nodes=2)\r\n",
        "    cluster = ComputeTarget.create(ws, compute_name, config)\r\n",
        "    cluster.wait_for_completion(show_output=True)\r\n",
        "\r\n",
        "print(f\"Got reference to cluster {cluster.name}\") "
      ],
      "outputs": [],
      "execution_count": null,
      "metadata": {
        "collapsed": true,
        "jupyter": {
          "source_hidden": false,
          "outputs_hidden": false
        },
        "nteract": {
          "transient": {
            "deleting": false
          }
        },
        "gather": {
          "logged": 1627328873234
        }
      }
    },
    {
      "cell_type": "code",
      "source": [
        "from azureml.core.compute import AmlCompute\r\n",
        "help(AmlCompute.provisioning_configuration)"
      ],
      "outputs": [],
      "execution_count": null,
      "metadata": {
        "collapsed": true,
        "jupyter": {
          "source_hidden": false,
          "outputs_hidden": false
        },
        "nteract": {
          "transient": {
            "deleting": false
          }
        },
        "gather": {
          "logged": 1627329100559
        }
      }
    },
    {
      "cell_type": "code",
      "source": [
        "from azureml.core.compute import AmlCompute\r\n",
        "\r\n",
        "for ct_name, ct in ws.compute_targets.items():\r\n",
        "    if (isinstance(ct, AmlCompute)):\r\n",
        "        print(f\"Scalling down cluster {ct_name}\")\r\n",
        "        try:\r\n",
        "            ct.update(min_nodes=0)\r\n",
        "        except Exception as e:\r\n",
        "            print(f\"Failed to scale down cluster {ct.name} with error {e})\")"
      ],
      "outputs": [],
      "execution_count": null,
      "metadata": {
        "collapsed": true,
        "jupyter": {
          "source_hidden": false,
          "outputs_hidden": false
        },
        "nteract": {
          "transient": {
            "deleting": false
          }
        },
        "gather": {
          "logged": 1627329220752
        }
      }
    },
    {
      "cell_type": "markdown",
      "source": [
        "### Defining datastores"
      ],
      "metadata": {
        "nteract": {
          "transient": {
            "deleting": false
          }
        }
      }
    },
    {
      "cell_type": "code",
      "source": [
        "from azureml.core import Workspace\r\n",
        "\r\n",
        "ws = Workspace.from_config()\r\n",
        "print(f\"Connected to workspace {ws.name}\")"
      ],
      "outputs": [],
      "execution_count": null,
      "metadata": {
        "collapsed": true,
        "jupyter": {
          "source_hidden": false,
          "outputs_hidden": false
        },
        "nteract": {
          "transient": {
            "deleting": false
          }
        }
      }
    },
    {
      "cell_type": "code",
      "source": [
        "raise NotImplementedError(\"Please comment out this line and update the values below\")\r\n",
        "storage_name = '<storage account name>'\r\n",
        "storage_key = '<storage account key>'\r\n",
        "storage_container = 'existing-container'"
      ],
      "outputs": [],
      "execution_count": null,
      "metadata": {
        "collapsed": true,
        "jupyter": {
          "source_hidden": false,
          "outputs_hidden": false
        },
        "nteract": {
          "transient": {
            "deleting": false
          }
        }
      }
    },
    {
      "cell_type": "code",
      "source": [
        "from azureml.core import Datastore\r\n",
        "\r\n",
        "dstore = Datastore.register_azure_blob_container(\r\n",
        "    workspace=ws,\r\n",
        "    datastore_name=\"my_data_store\",\r\n",
        "    container_name=storage_container,\r\n",
        "    account_name=storage_name,\r\n",
        "    account_key=storage_key,\r\n",
        "    create_if_not_exists=False,\r\n",
        ")\r\n",
        "\r\n",
        "# If the container doesn't exist you will get an error\r\n",
        "# azure.common.AzureMissingResourceHttpError: The specified container does not exist. ErrorCode: ContainerNotFound"
      ],
      "outputs": [],
      "execution_count": null,
      "metadata": {
        "collapsed": true,
        "jupyter": {
          "source_hidden": false,
          "outputs_hidden": false
        },
        "nteract": {
          "transient": {
            "deleting": false
          }
        },
        "gather": {
          "logged": 1613745622146
        }
      }
    },
    {
      "cell_type": "code",
      "source": [
        "from azureml.core import Datastore\r\n",
        "\r\n",
        "dstore = Datastore.get(ws,\"my_data_store\")"
      ],
      "outputs": [],
      "execution_count": null,
      "metadata": {
        "collapsed": true,
        "jupyter": {
          "source_hidden": false,
          "outputs_hidden": false
        },
        "nteract": {
          "transient": {
            "deleting": false
          }
        },
        "gather": {
          "logged": 1613749627131
        }
      }
    },
    {
      "cell_type": "code",
      "source": [
        "dstore = ws.get_default_datastore()"
      ],
      "outputs": [],
      "execution_count": null,
      "metadata": {
        "collapsed": true,
        "jupyter": {
          "source_hidden": false,
          "outputs_hidden": false
        },
        "nteract": {
          "transient": {
            "deleting": false
          }
        },
        "gather": {
          "logged": 1627330399774
        }
      }
    },
    {
      "cell_type": "code",
      "source": [
        "from sklearn.datasets import load_diabetes\r\n",
        "import pandas as pd\r\n",
        "\r\n",
        "features, target = load_diabetes(return_X_y=True)\r\n",
        "diabetes_df = pd.DataFrame(features)\r\n",
        "diabetes_df['target']= target\r\n",
        "\r\n",
        "diabetes_df.to_csv('rawdata.csv',\r\n",
        "                    index=False)\r\n",
        "\r\n",
        "dstore = ws.get_default_datastore()\r\n",
        "\r\n",
        "dstore.upload_files(\r\n",
        "    files=['rawdata.csv'],\r\n",
        "    target_path=\"/samples/diabetes/v1\", \r\n",
        "    overwrite=True,\r\n",
        "    show_progress=True)"
      ],
      "outputs": [],
      "execution_count": null,
      "metadata": {
        "collapsed": true,
        "jupyter": {
          "source_hidden": false,
          "outputs_hidden": false
        },
        "nteract": {
          "transient": {
            "deleting": false
          }
        },
        "gather": {
          "logged": 1627330407492
        }
      }
    },
    {
      "cell_type": "markdown",
      "source": [
        "### Working with datasets"
      ],
      "metadata": {
        "nteract": {
          "transient": {
            "deleting": false
          }
        }
      }
    },
    {
      "cell_type": "code",
      "source": [
        "from azureml.core import Dataset\r\n",
        "\r\n",
        "dstore = ws.get_default_datastore()\r\n",
        "file_paths = [\r\n",
        "    (dstore, \"/samples/diabetes/v1\")\r\n",
        "]\r\n",
        "\r\n",
        "file_ds = Dataset.File.from_files(\r\n",
        "    path = file_paths, validate = True\r\n",
        ")\r\n",
        "\r\n",
        "print(\"Files in FileDataset:\")\r\n",
        "print(file_ds.to_path())"
      ],
      "outputs": [],
      "execution_count": null,
      "metadata": {
        "collapsed": true,
        "jupyter": {
          "source_hidden": false,
          "outputs_hidden": false
        },
        "nteract": {
          "transient": {
            "deleting": false
          }
        },
        "gather": {
          "logged": 1627330999106
        }
      }
    },
    {
      "cell_type": "code",
      "source": [
        "tabular_dataset = Dataset.Tabular.from_delimited_files(\r\n",
        "    path=file_paths,\r\n",
        "    validate=False)\r\n",
        "\r\n",
        "df = tabular_dataset.to_pandas_dataframe()\r\n",
        "print(len(df))"
      ],
      "outputs": [],
      "execution_count": null,
      "metadata": {
        "collapsed": true,
        "jupyter": {
          "source_hidden": false,
          "outputs_hidden": false
        },
        "nteract": {
          "transient": {
            "deleting": false
          }
        },
        "gather": {
          "logged": 1627331179862
        }
      }
    },
    {
      "cell_type": "code",
      "source": [
        "tabular_dataset.register(\r\n",
        "    workspace=ws,\r\n",
        "    name=\"diabetes\",\r\n",
        "    description=\"The sklearn diabetes dataset\")"
      ],
      "outputs": [],
      "execution_count": null,
      "metadata": {
        "collapsed": true,
        "jupyter": {
          "source_hidden": false,
          "outputs_hidden": false
        },
        "nteract": {
          "transient": {
            "deleting": false
          }
        },
        "gather": {
          "logged": 1627331573059
        }
      }
    },
    {
      "cell_type": "code",
      "source": [
        "Dataset.Tabular.register_pandas_dataframe(\r\n",
        "    dataframe=df,\r\n",
        "    target=(dstore,\"/samples/diabetes\"),\r\n",
        "    name=\"diabetes\",\r\n",
        "    description=\"The sklearn diabetes dataset\")\r\n"
      ],
      "outputs": [],
      "execution_count": null,
      "metadata": {
        "collapsed": true,
        "jupyter": {
          "source_hidden": false,
          "outputs_hidden": false
        },
        "nteract": {
          "transient": {
            "deleting": false
          }
        },
        "gather": {
          "logged": 1627331578864
        }
      }
    },
    {
      "cell_type": "code",
      "source": [
        "from azureml.core import Dataset\r\n",
        "\r\n",
        "diabetes_dataset = Dataset.get_by_name(\r\n",
        "    workspace=ws,\r\n",
        "    name='diabetes')"
      ],
      "outputs": [],
      "execution_count": null,
      "metadata": {
        "collapsed": true,
        "jupyter": {
          "source_hidden": false,
          "outputs_hidden": false
        },
        "nteract": {
          "transient": {
            "deleting": false
          }
        },
        "gather": {
          "logged": 1627331586968
        }
      }
    },
    {
      "cell_type": "code",
      "source": [
        "partial_dataset = diabetes_dataset \\\r\n",
        "        .skip(10) \\\r\n",
        "        .take(2) \\\r\n",
        "        .keep_columns(['0','target'])"
      ],
      "outputs": [],
      "execution_count": null,
      "metadata": {
        "collapsed": true,
        "jupyter": {
          "source_hidden": false,
          "outputs_hidden": false
        },
        "nteract": {
          "transient": {
            "deleting": false
          }
        },
        "gather": {
          "logged": 1627331590736
        }
      }
    },
    {
      "cell_type": "code",
      "source": [
        "df = partial_dataset.to_pandas_dataframe()\r\n",
        "df.head()"
      ],
      "outputs": [],
      "execution_count": null,
      "metadata": {
        "collapsed": true,
        "jupyter": {
          "source_hidden": false,
          "outputs_hidden": false
        },
        "nteract": {
          "transient": {
            "deleting": false
          }
        },
        "gather": {
          "logged": 1627331697678
        }
      }
    },
    {
      "cell_type": "markdown",
      "source": [
        "## Working with the Azure CLI"
      ],
      "metadata": {
        "nteract": {
          "transient": {
            "deleting": false
          }
        }
      }
    },
    {
      "cell_type": "code",
      "source": [
        "! az extension add -n azure-cli-ml"
      ],
      "outputs": [],
      "execution_count": null,
      "metadata": {
        "collapsed": true,
        "jupyter": {
          "source_hidden": false,
          "outputs_hidden": false
        },
        "nteract": {
          "transient": {
            "deleting": false
          }
        }
      }
    },
    {
      "cell_type": "code",
      "source": [
        "! az login"
      ],
      "outputs": [],
      "execution_count": null,
      "metadata": {
        "collapsed": true,
        "jupyter": {
          "source_hidden": false,
          "outputs_hidden": false
        },
        "nteract": {
          "transient": {
            "deleting": false
          }
        }
      }
    },
    {
      "cell_type": "code",
      "source": [
        "! az account set --subscription \"<subscription id>\""
      ],
      "outputs": [],
      "execution_count": null,
      "metadata": {
        "collapsed": true,
        "jupyter": {
          "source_hidden": false,
          "outputs_hidden": false
        },
        "nteract": {
          "transient": {
            "deleting": false
          }
        }
      }
    },
    {
      "cell_type": "code",
      "source": [
        "! az ml computetarget list -g packt-azureml-rg -w packt-learning-mlw -o table"
      ],
      "outputs": [],
      "execution_count": null,
      "metadata": {
        "collapsed": true,
        "jupyter": {
          "source_hidden": false,
          "outputs_hidden": false
        },
        "nteract": {
          "transient": {
            "deleting": false
          }
        }
      }
    },
    {
      "cell_type": "code",
      "source": [
        "! az ml computetarget update amlcompute --name gpu-cluster --min-nodes 0 -g packt-azureml-rg -w packt-learning-mlw"
      ],
      "outputs": [],
      "execution_count": null,
      "metadata": {
        "collapsed": true,
        "jupyter": {
          "source_hidden": false,
          "outputs_hidden": false
        },
        "nteract": {
          "transient": {
            "deleting": false
          }
        }
      }
    },
    {
      "cell_type": "code",
      "source": [
        "! az ml datastore show-default -g packt-azureml-rg -w packt-learning-mlw"
      ],
      "outputs": [],
      "execution_count": null,
      "metadata": {
        "collapsed": true,
        "jupyter": {
          "source_hidden": false,
          "outputs_hidden": false
        },
        "nteract": {
          "transient": {
            "deleting": false
          }
        }
      }
    },
    {
      "cell_type": "code",
      "source": [
        "! az ml dataset list -g packt-azureml-rg -w packt-learning-mlw -o table"
      ],
      "outputs": [],
      "execution_count": null,
      "metadata": {
        "collapsed": true,
        "jupyter": {
          "source_hidden": false,
          "outputs_hidden": false
        },
        "nteract": {
          "transient": {
            "deleting": false
          }
        }
      }
    }
  ],
  "metadata": {
    "kernelspec": {
      "name": "python3-azureml",
      "language": "python",
      "display_name": "Python 3.6 - AzureML"
    },
    "language_info": {
      "name": "python",
      "version": "3.6.9",
      "mimetype": "text/x-python",
      "codemirror_mode": {
        "name": "ipython",
        "version": 3
      },
      "pygments_lexer": "ipython3",
      "nbconvert_exporter": "python",
      "file_extension": ".py"
    },
    "kernel_info": {
      "name": "python3-azureml"
    },
    "nteract": {
      "version": "nteract-front-end@1.0.0"
    },
    "microsoft": {
      "host": {
        "AzureML": {
          "notebookHasBeenCompleted": true
        }
      }
    }
  },
  "nbformat": 4,
  "nbformat_minor": 2
}