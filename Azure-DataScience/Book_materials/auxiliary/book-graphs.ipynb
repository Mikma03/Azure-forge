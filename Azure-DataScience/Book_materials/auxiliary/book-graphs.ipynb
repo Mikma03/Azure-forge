{
  "cells": [
    {
      "cell_type": "markdown",
      "source": [
        "# Book graphs\r\n",
        "\r\n",
        "This notebooks contains the code to generate a couple of graphs added within the book."
      ],
      "metadata": {
        "nteract": {
          "transient": {
            "deleting": false
          }
        }
      }
    },
    {
      "cell_type": "markdown",
      "source": [
        "## Figure 1.1\r\n",
        "Sharp questions machine learning can answer"
      ],
      "metadata": {
        "nteract": {
          "transient": {
            "deleting": false
          }
        }
      }
    },
    {
      "cell_type": "code",
      "source": [
        "import numpy as np\r\n",
        "import matplotlib.pyplot as plt\r\n",
        "\r\n",
        "x = np.arange(1,11)\r\n",
        "np.random.seed(1773)\r\n",
        "y = x+3*np.random.rand(len(x))\r\n",
        "\r\n",
        "a,b = np.polyfit(x,y,1)\r\n",
        "yfit = a*x + b\r\n",
        "\r\n",
        "plt.plot(x,y, 'r+')\r\n",
        "plt.plot(x, yfit, '--k')\r\n",
        "\r\n",
        "plt.figure(figsize=(10,10), dpi=1200)"
      ],
      "outputs": [],
      "execution_count": null,
      "metadata": {
        "jupyter": {
          "source_hidden": false,
          "outputs_hidden": false
        },
        "nteract": {
          "transient": {
            "deleting": false
          }
        },
        "gather": {
          "logged": 1632049720503
        }
      }
    },
    {
      "cell_type": "code",
      "source": [
        "from azureml.core import Workspace, Dataset\r\n",
        "import matplotlib.pyplot as plt\r\n",
        "\r\n",
        "ws = Workspace.from_config()\r\n",
        "\r\n",
        "dataset = Dataset.get_by_name(ws, name='churn-dataset')\r\n",
        "churn_df = dataset.keep_columns(['customer_tenure','churned']).to_pandas_dataframe()"
      ],
      "outputs": [],
      "execution_count": null,
      "metadata": {
        "jupyter": {
          "source_hidden": false,
          "outputs_hidden": false
        },
        "nteract": {
          "transient": {
            "deleting": false
          }
        },
        "gather": {
          "logged": 1632051066081
        }
      }
    },
    {
      "cell_type": "code",
      "source": [
        "churn_df.sort_values(by=['customer_tenure'], ascending=False, inplace=True)\r\n",
        "churn_df.sort_values(by=['churned'], inplace=True)\r\n",
        "churn_df.reset_index(inplace=True, drop=True)\r\n",
        "churn_df.head()"
      ],
      "outputs": [],
      "execution_count": null,
      "metadata": {
        "jupyter": {
          "source_hidden": false,
          "outputs_hidden": false
        },
        "nteract": {
          "transient": {
            "deleting": false
          }
        },
        "gather": {
          "logged": 1632051291335
        }
      }
    },
    {
      "cell_type": "code",
      "source": [
        "plt.scatter(churn_df.index,churn_df['customer_tenure'], c=churn_df['churned'])\r\n",
        "min_true_index=churn_df[churn_df.churned==True].index[0]\r\n",
        "plt.axvline(x=min_true_index)\r\n",
        "plt.figure(figsize=(10,10), dpi=1200)"
      ],
      "outputs": [],
      "execution_count": null,
      "metadata": {
        "jupyter": {
          "source_hidden": false,
          "outputs_hidden": false
        },
        "nteract": {
          "transient": {
            "deleting": false
          }
        },
        "gather": {
          "logged": 1632051400250
        }
      }
    },
    {
      "cell_type": "code",
      "source": [
        "from sklearn.cluster import KMeans\r\n",
        "from sklearn.datasets import make_blobs\r\n",
        "from sklearn.metrics import euclidean_distances\r\n",
        "\r\n",
        "X, y = make_blobs(n_samples=1500, random_state=1377)\r\n",
        "\r\n",
        "kmeans = KMeans(n_clusters=3,algorithm='full', random_state=1377)\r\n",
        "kmeans.fit(X)\r\n",
        "y_kmeans = kmeans.predict(X)\r\n",
        "\r\n",
        "plt.scatter(X[:, 0], X[:, 1], c=y_kmeans)\r\n",
        "\r\n",
        "centers = kmeans.cluster_centers_\r\n",
        "plt.scatter(centers[:, 0], centers[:, 1], c='red', s=100, marker='x');\r\n",
        "for ind,i in enumerate(centers):\r\n",
        "    cluster_items=np.where(kmeans.labels_==ind)[0]\r\n",
        "    cluster_radius=np.max(euclidean_distances(X[cluster_items]))/2\r\n",
        "    plt.gca().add_artist(plt.Circle(i, cluster_radius, fill=False, linestyle='--', color='red'))\r\n",
        "\r\n",
        "plt.xlim(-3,11)\r\n",
        "plt.figure(figsize=(10,10), dpi=1200)"
      ],
      "outputs": [],
      "execution_count": null,
      "metadata": {
        "jupyter": {
          "source_hidden": false,
          "outputs_hidden": false
        },
        "nteract": {
          "transient": {
            "deleting": false
          }
        },
        "gather": {
          "logged": 1632056070943
        }
      }
    },
    {
      "cell_type": "code",
      "source": [
        "bottom_cluster = X[np.where(kmeans.labels_==1)[0]]\r\n",
        "bottom_cluster = bottom_cluster[(bottom_cluster[:,1]< -4.5) | (bottom_cluster[:,1] > -3)]\r\n",
        "bottom_cluster = bottom_cluster[(bottom_cluster[:,0] > 0) & (bottom_cluster[:,0] < 3)]\r\n",
        "plt.scatter(bottom_cluster[:, 0], bottom_cluster[:, 1])\r\n",
        "outlier = bottom_cluster[(bottom_cluster[:,1] > -3)][0]\r\n",
        "\r\n",
        "plt.gca().add_artist(plt.Circle(outlier, 0.2, fill=False, linestyle='--', color='red'))"
      ],
      "outputs": [],
      "execution_count": null,
      "metadata": {
        "jupyter": {
          "source_hidden": false,
          "outputs_hidden": false
        },
        "nteract": {
          "transient": {
            "deleting": false
          }
        },
        "gather": {
          "logged": 1632056570473
        }
      }
    },
    {
      "cell_type": "markdown",
      "source": [
        "## Figure 9.2\r\n",
        "\r\n",
        "Advanced discrete and continuous hyperparameter value distributions. Sample values are ordered. X axis shows the ordered value’s index number."
      ],
      "metadata": {
        "nteract": {
          "transient": {
            "deleting": false
          }
        }
      }
    },
    {
      "cell_type": "code",
      "source": [
        "import numpy as np\r\n",
        "import matplotlib.pyplot as plt\r\n",
        "\r\n",
        "mu=5\r\n",
        "sigma=1\r\n",
        "sample_rate = 1000\r\n",
        "normal_data = np.random.normal(mu, sigma, sample_rate)\r\n",
        "\r\n",
        "low = round(min(normal_data))\r\n",
        "high = round(max(normal_data))\r\n",
        "uniform_data = np.random.uniform(low, high, sample_rate)\r\n",
        "\r\n",
        "\r\n",
        "def quniform():\r\n",
        "    plt.subplot(2,2,1)\r\n",
        "    plt.title(f\"Uniform distribution with low={low} and high={high}\")\r\n",
        "    uniform_data.sort()\r\n",
        "    plt.plot(uniform_data, dashes=[6, 2], color=\"m\", label=\"Continuous uniform\")\r\n",
        "    for q in [1,2]:\r\n",
        "        # round(uniform(low, high) / q) * q\r\n",
        "        values = (uniform_data/q).round()*q \r\n",
        "        values.sort()\r\n",
        "        plt.plot(values, label=f'Discrete quniform with q={q}')\r\n",
        "    plt.legend(loc='best')\r\n",
        "\r\n",
        "def qloguniform():\r\n",
        "    plt.subplot(2,2,3)\r\n",
        "    plt.title(f\"Log uniform distribution with low={low} and high={high}\")\r\n",
        "    log_uniform_data = np.exp(uniform_data)\r\n",
        "    log_uniform_data.sort()\r\n",
        "    plt.plot(log_uniform_data, dashes=[6, 2], color=\"m\", label=\"Continuous loguniform\")\r\n",
        "    #plt.yscale('log')\r\n",
        "    for q in [1,1000]:\r\n",
        "        values = (log_uniform_data/q).round()*q \r\n",
        "        values.sort()\r\n",
        "        plt.plot(values, label=f'Discrete quniform with q={q}')\r\n",
        "    plt.legend(loc='best')\r\n",
        "\r\n",
        "def qnormal():\r\n",
        "    plt.subplot(2,2,2)\r\n",
        "    plt.title(f\"Normal distribution with μ={mu} and σ={sigma}\")\r\n",
        "    normal_data.sort()\r\n",
        "    plt.plot(normal_data, dashes=[6, 2], color=\"m\", label=\"Continuous normal\")\r\n",
        "    for q in [1,2]:\r\n",
        "        #  round(normal(mu, sigma) / q) * q\r\n",
        "        values = (normal_data/q).round()*q \r\n",
        "        values.sort()\r\n",
        "        plt.plot(values, label=f'Discrete qnormal with q={q}') \r\n",
        "    plt.legend(loc='best')\r\n",
        "\r\n",
        "def qlognormal():\r\n",
        "    plt.subplot(2,2,4)\r\n",
        "    plt.title(f\"Log normal distribution with μ={mu} and σ={sigma}\")\r\n",
        "    log_normal_data = np.exp(normal_data)\r\n",
        "    log_normal_data.sort()\r\n",
        "    plt.plot(log_normal_data, dashes=[6, 2], color=\"m\", label=\"Continuous lognormal\")\r\n",
        "    #plt.yscale('log')\r\n",
        "    for q in [1,1000]:\r\n",
        "        values = (log_normal_data/q).round()*q \r\n",
        "        values.sort()\r\n",
        "        plt.plot(values, label=f'Discrete qlognormal with q={q}')\r\n",
        "    plt.legend(loc='best')\r\n",
        "\r\n",
        "plt.figure(figsize=(16,12), dpi=1200)\r\n",
        "\r\n",
        "quniform()\r\n",
        "qloguniform()\r\n",
        "qnormal()\r\n",
        "qlognormal()\r\n"
      ],
      "outputs": [],
      "execution_count": null,
      "metadata": {
        "jupyter": {
          "source_hidden": false,
          "outputs_hidden": false
        },
        "nteract": {
          "transient": {
            "deleting": false
          }
        },
        "gather": {
          "logged": 1630824236736
        }
      }
    }
  ],
  "metadata": {
    "kernelspec": {
      "name": "python3-azureml",
      "language": "python",
      "display_name": "Python 3.6 - AzureML"
    },
    "language_info": {
      "name": "python",
      "version": "3.6.9",
      "mimetype": "text/x-python",
      "codemirror_mode": {
        "name": "ipython",
        "version": 3
      },
      "pygments_lexer": "ipython3",
      "nbconvert_exporter": "python",
      "file_extension": ".py"
    },
    "kernel_info": {
      "name": "python3-azureml"
    },
    "microsoft": {
      "host": {
        "AzureML": {
          "notebookHasBeenCompleted": true
        }
      }
    },
    "nteract": {
      "version": "nteract-front-end@1.0.0"
    }
  },
  "nbformat": 4,
  "nbformat_minor": 2
}