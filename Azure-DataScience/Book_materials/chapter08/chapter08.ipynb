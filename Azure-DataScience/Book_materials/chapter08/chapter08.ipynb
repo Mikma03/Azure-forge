{
  "cells": [
    {
      "cell_type": "markdown",
      "metadata": {
        "nteract": {
          "transient": {
            "deleting": false
          }
        }
      },
      "source": [
        "# Chapter 08 code snippets\n",
        "This notebook contains all code snippets from chapter 8."
      ]
    },
    {
      "cell_type": "markdown",
      "metadata": {
        "nteract": {
          "transient": {
            "deleting": false
          }
        }
      },
      "source": [
        "## Training a simple sklearn model within notebooks"
      ]
    },
    {
      "cell_type": "code",
      "execution_count": null,
      "metadata": {
        "collapsed": true,
        "gather": {
          "logged": 1627335537694
        },
        "jupyter": {
          "outputs_hidden": false,
          "source_hidden": false
        },
        "nteract": {
          "transient": {
            "deleting": false
          }
        }
      },
      "outputs": [],
      "source": [
        "from azureml.core import Workspace\n",
        "\n",
        "ws = Workspace.from_config()\n",
        "diabetes_ds = ws.datasets['diabetes']\n",
        "\n",
        "training_data, validation_data = diabetes_ds.random_split(percentage = 0.8)\n",
        "\n",
        "X_train = training_data.drop_columns('target').to_pandas_dataframe()\n",
        "y_train = training_data.keep_columns('target').to_pandas_dataframe()\n",
        "\n",
        "X_validate = validation_data.drop_columns('target').to_pandas_dataframe()\n",
        "y_validate = validation_data.keep_columns('target').to_pandas_dataframe()"
      ]
    },
    {
      "cell_type": "code",
      "execution_count": null,
      "metadata": {
        "collapsed": true,
        "gather": {
          "logged": 1627335716713
        },
        "jupyter": {
          "outputs_hidden": false,
          "source_hidden": false
        },
        "nteract": {
          "transient": {
            "deleting": false
          }
        }
      },
      "outputs": [],
      "source": [
        "from sklearn.linear_model import LassoLars\n",
        "\n",
        "alpha = 0.1\n",
        "\n",
        "model = LassoLars(alpha=alpha)\n",
        "model.fit(X_train, y_train)"
      ]
    },
    {
      "cell_type": "code",
      "execution_count": null,
      "metadata": {
        "collapsed": true,
        "gather": {
          "logged": 1627335999818
        },
        "jupyter": {
          "outputs_hidden": false,
          "source_hidden": false
        },
        "nteract": {
          "transient": {
            "deleting": false
          }
        }
      },
      "outputs": [],
      "source": [
        "from sklearn.metrics import mean_squared_error\n",
        "\n",
        "predictions = model.predict(X_validate)\n",
        "rmse = mean_squared_error(predictions, y_validate, squared = False)\n",
        "\n",
        "# Range of data using the peak to peak numpy function\n",
        "range_y_validate = y_validate.to_numpy().ptp()\n",
        "# Normalize dividing by the range of the data\n",
        "nrmse = rmse/range_y_validate\n",
        "\n",
        "print(f\"Normalized Root Mean Squared Error: {nrmse}\")"
      ]
    },
    {
      "cell_type": "code",
      "execution_count": null,
      "metadata": {
        "collapsed": true,
        "gather": {
          "logged": 1627336105745
        },
        "jupyter": {
          "outputs_hidden": false,
          "source_hidden": false
        },
        "nteract": {
          "transient": {
            "deleting": false
          }
        }
      },
      "outputs": [],
      "source": [
        "import os\n",
        "import joblib\n",
        "\n",
        "os.makedirs('./outputs', exist_ok=True)\n",
        "\n",
        "model_file_name = f'model_{nrmse:.4f}_{alpha:.4f}.pkl'\n",
        "joblib.dump(value=model, filename=os.path.join('./outputs/',model_file_name))"
      ]
    },
    {
      "cell_type": "markdown",
      "metadata": {
        "nteract": {
          "transient": {
            "deleting": false
          }
        }
      },
      "source": [
        "## Tracking metrics in experiments"
      ]
    },
    {
      "cell_type": "code",
      "execution_count": null,
      "metadata": {
        "collapsed": true,
        "gather": {
          "logged": 1627336719114
        },
        "jupyter": {
          "outputs_hidden": false,
          "source_hidden": false
        },
        "nteract": {
          "transient": {
            "deleting": false
          }
        }
      },
      "outputs": [],
      "source": [
        "from azureml.core import Workspace, Experiment\n",
        "\n",
        "ws = Workspace.from_config()\n",
        "exp = Experiment(workspace=ws, name=\"chapter08\")"
      ]
    },
    {
      "cell_type": "code",
      "execution_count": null,
      "metadata": {
        "collapsed": true,
        "gather": {
          "logged": 1627337140931
        },
        "jupyter": {
          "outputs_hidden": false,
          "source_hidden": false
        },
        "nteract": {
          "transient": {
            "deleting": false
          }
        }
      },
      "outputs": [],
      "source": [
        "run = exp.start_logging(snapshot_directory=None, display_name=\"Run in notebook\")\n",
        "print(run.get_details())"
      ]
    },
    {
      "cell_type": "code",
      "execution_count": null,
      "metadata": {
        "collapsed": true,
        "gather": {
          "logged": 1627337143594
        },
        "jupyter": {
          "outputs_hidden": false,
          "source_hidden": false
        },
        "nteract": {
          "transient": {
            "deleting": false
          }
        }
      },
      "outputs": [],
      "source": [
        "run.log(\"nrmse\", 0.01)\n",
        "run.log(name=\"nrmse\", value=0.015, description=\"2nd measure\")"
      ]
    },
    {
      "cell_type": "code",
      "execution_count": null,
      "metadata": {
        "collapsed": true,
        "gather": {
          "logged": 1627337658811
        },
        "jupyter": {
          "outputs_hidden": false,
          "source_hidden": false
        },
        "nteract": {
          "transient": {
            "deleting": false
          }
        }
      },
      "outputs": [],
      "source": [
        "run.log_list(\"accuracies\", [0.5, 0.57, 0.62])"
      ]
    },
    {
      "cell_type": "code",
      "execution_count": null,
      "metadata": {
        "collapsed": true,
        "gather": {
          "logged": 1627337660120
        },
        "jupyter": {
          "outputs_hidden": false,
          "source_hidden": false
        },
        "nteract": {
          "transient": {
            "deleting": false
          }
        }
      },
      "outputs": [],
      "source": [
        "run.log_table(\"table\", {\"x\":[1, 2], \"y\":[0.1, 0.2]})\n",
        "run.log_row(\"table\", x=3, y=0.3)"
      ]
    },
    {
      "cell_type": "code",
      "execution_count": null,
      "metadata": {
        "collapsed": true,
        "gather": {
          "logged": 1627337662209
        },
        "jupyter": {
          "outputs_hidden": false,
          "source_hidden": false
        },
        "nteract": {
          "transient": {
            "deleting": false
          }
        }
      },
      "outputs": [],
      "source": [
        "child_run = run.child_run()\n",
        "child_run.log(\"child_metric\", 0.01)\n",
        "child_run.parent.log(\"metric_from_child\", 0.02)"
      ]
    },
    {
      "cell_type": "code",
      "execution_count": null,
      "metadata": {
        "collapsed": true,
        "gather": {
          "logged": 1627337689126
        },
        "jupyter": {
          "outputs_hidden": false,
          "source_hidden": false
        },
        "nteract": {
          "transient": {
            "deleting": false
          }
        }
      },
      "outputs": [],
      "source": [
        "child_run.cancel()\n",
        "run.complete()\n",
        "print(run.get_status())"
      ]
    },
    {
      "cell_type": "markdown",
      "metadata": {
        "nteract": {
          "transient": {
            "deleting": false
          }
        }
      },
      "source": [
        "### Tracking model evolution"
      ]
    },
    {
      "cell_type": "code",
      "execution_count": null,
      "metadata": {
        "collapsed": true,
        "gather": {
          "logged": 1627337781595
        },
        "jupyter": {
          "outputs_hidden": false,
          "source_hidden": false
        },
        "nteract": {
          "transient": {
            "deleting": false
          }
        }
      },
      "outputs": [],
      "source": [
        "import shutil\n",
        "\n",
        "try:\n",
        "  shutil.rmtree(\"./outputs\")\n",
        "except FileNotFoundError: \n",
        "  pass"
      ]
    },
    {
      "cell_type": "code",
      "execution_count": null,
      "metadata": {
        "collapsed": true,
        "gather": {
          "logged": 1627338176155
        },
        "jupyter": {
          "outputs_hidden": false,
          "source_hidden": false
        },
        "nteract": {
          "transient": {
            "deleting": false
          }
        }
      },
      "outputs": [],
      "source": [
        "from sklearn.linear_model import LassoLars\n",
        "from sklearn.metrics import mean_squared_error\n",
        "\n",
        "def train_and_evaluate(alpha, X_t, y_t, X_v, y_v):\n",
        "  model = LassoLars(alpha=alpha)\n",
        "  model.fit(X_t, y_t)\n",
        "  predictions = model.predict(X_v)\n",
        "  rmse = mean_squared_error(predictions, y_v, squared = False)\n",
        "  range_y_validate = y_v.to_numpy().ptp()\n",
        "  nrmse = rmse/range_y_validate\n",
        "  print(f\"NRMSE: {nrmse}\")\n",
        "  return model, nrmse\n",
        "\n",
        "trained_model, model_nrmse = train_and_evaluate(0.1, \n",
        "                        X_train, y_train,\n",
        "                        X_validate, y_validate)"
      ]
    },
    {
      "cell_type": "code",
      "execution_count": null,
      "metadata": {
        "collapsed": true,
        "gather": {
          "logged": 1627338328154
        },
        "jupyter": {
          "outputs_hidden": false,
          "source_hidden": false
        },
        "nteract": {
          "transient": {
            "deleting": false
          }
        }
      },
      "outputs": [],
      "source": [
        "def train_and_evaluate(run, alpha, X_t, y_t, X_v, y_v):\n",
        "  model = LassoLars(alpha=alpha)\n",
        "  model.fit(X_t, y_t)\n",
        "  predictions = model.predict(X_v)\n",
        "  rmse = mean_squared_error(predictions, y_v, squared = False)\n",
        "  range_y_validate = y_v.to_numpy().ptp()\n",
        "  nrmse = rmse/range_y_validate\n",
        "  run.log(\"nrmse\", nrmse)\n",
        "  run.log_row(\"nrmse over α\", α=alpha, nrmse=nrmse)\n",
        "  return model, nrmse"
      ]
    },
    {
      "cell_type": "code",
      "execution_count": null,
      "metadata": {
        "collapsed": true,
        "gather": {
          "logged": 1627338399377
        },
        "jupyter": {
          "outputs_hidden": false,
          "source_hidden": false
        },
        "nteract": {
          "transient": {
            "deleting": false
          }
        }
      },
      "outputs": [],
      "source": [
        "from azureml.core import Workspace, Experiment\n",
        "\n",
        "ws = Workspace.from_config()\n",
        "exp = Experiment(workspace=ws, name=\"chapter08\")\n",
        "with exp.start_logging(snapshot_directory=None) as run:\n",
        "    print(run.get_portal_url())\n",
        "    for a in [0.001, 0.01, 0.1, 0.25, 0.5]:\n",
        "        train_and_evaluate(run, a, \n",
        "                            X_train, y_train,\n",
        "                            X_validate, y_validate)"
      ]
    },
    {
      "cell_type": "markdown",
      "metadata": {
        "nteract": {
          "transient": {
            "deleting": false
          }
        }
      },
      "source": [
        "### Using MLFlow to track experiments"
      ]
    },
    {
      "cell_type": "code",
      "execution_count": null,
      "metadata": {
        "collapsed": true,
        "gather": {
          "logged": 1627338756323
        },
        "jupyter": {
          "outputs_hidden": false,
          "source_hidden": false
        },
        "nteract": {
          "transient": {
            "deleting": false
          }
        }
      },
      "outputs": [],
      "source": [
        "from sklearn.linear_model import LassoLars\n",
        "from sklearn.metrics import mean_squared_error\n",
        "import mlflow\n",
        "\n",
        "def train_and_evaluate(alpha, X_t, y_t, X_v, y_v):\n",
        "  model = LassoLars(alpha=alpha)\n",
        "  model.fit(X_t, y_t)\n",
        "  predictions = model.predict(X_v)\n",
        "  rmse = mean_squared_error(predictions, y_v, squared = False)\n",
        "  range_y_validate = y_v.to_numpy().ptp()\n",
        "  nrmse = rmse/range_y_validate\n",
        "  mlflow.log_metric(\"nrmse\", nrmse)\n",
        "  return model, nrmse\n",
        "\n",
        "mlflow.set_experiment(\"chapter08-mlflow\")\n",
        "with mlflow.start_run():\n",
        "    mlflow.sklearn.autolog()\n",
        "    trained_model, model_nrmse = train_and_evaluate(0.1, \n",
        "                                    X_train, y_train,\n",
        "                                    X_validate, y_validate)"
      ]
    },
    {
      "cell_type": "markdown",
      "metadata": {
        "nteract": {
          "transient": {
            "deleting": false
          }
        }
      },
      "source": [
        "You can open the MLflow ui by posting the `mlflow ui` command in a terminal.\n",
        "This will open a web service listening at port 5000 of your compute instance.\n",
        "To view that port you need to visit `https://<compute-instance-name>-5000.<location>.instances.azureml.ms/`.\n",
        "\n",
        "If you are having troubles constructing this url:\n",
        "- Open a JupyterLab. \n",
        "- Copy the url that should be like `https://<compute-instance-name>.<location>.instances.azureml.ms`.\n",
        "- Modify the url to include the 5000 port number."
      ]
    },
    {
      "cell_type": "code",
      "execution_count": null,
      "metadata": {
        "collapsed": true,
        "jupyter": {
          "outputs_hidden": false,
          "source_hidden": false
        },
        "nteract": {
          "transient": {
            "deleting": false
          }
        }
      },
      "outputs": [],
      "source": [
        "!pip install azureml-mlflow"
      ]
    },
    {
      "cell_type": "code",
      "execution_count": null,
      "metadata": {
        "collapsed": true,
        "gather": {
          "logged": 1627339179856
        },
        "jupyter": {
          "outputs_hidden": false,
          "source_hidden": false
        },
        "nteract": {
          "transient": {
            "deleting": false
          }
        }
      },
      "outputs": [],
      "source": [
        "import mlflow\n",
        "from azureml.core import Workspace\n",
        "\n",
        "ws = Workspace.from_config()\n",
        "mlflow.set_tracking_uri(ws.get_mlflow_tracking_uri())\n",
        "\n",
        "mlflow.set_experiment(\"chapter08-mlflow\")\n",
        "with mlflow.start_run():\n",
        "    mlflow.sklearn.autolog()\n",
        "    trained_model, model_nrmse = train_and_evaluate(0.1, \n",
        "                                    X_train, y_train,\n",
        "                                    X_validate, y_validate)"
      ]
    },
    {
      "cell_type": "markdown",
      "metadata": {
        "nteract": {
          "transient": {
            "deleting": false
          }
        }
      },
      "source": [
        "## Scaling the training process with compute clusters"
      ]
    },
    {
      "cell_type": "code",
      "execution_count": null,
      "metadata": {
        "collapsed": true,
        "gather": {
          "logged": 1627355948932
        },
        "jupyter": {
          "outputs_hidden": false,
          "source_hidden": false
        },
        "nteract": {
          "transient": {
            "deleting": false
          }
        }
      },
      "outputs": [],
      "source": [
        "from azureml.core import Workspace, Experiment\n",
        "from azureml.core import ScriptRunConfig\n",
        "\n",
        "ws = Workspace.from_config()\n",
        "target = ws.compute_targets['cpu-sm-cluster']\n",
        "\n",
        "script = ScriptRunConfig(\n",
        "    source_directory='greeter-job',\n",
        "    script='greeter.py',\n",
        "    compute_target=target,\n",
        "    arguments=['--greet-name', 'packt']\n",
        ")\n",
        "\n",
        "exp = Experiment(ws, 'greet-packt')\n",
        "run = exp.submit(script)\n",
        "print(run.get_portal_url())\n",
        "run.wait_for_completion(show_output=True)"
      ]
    },
    {
      "cell_type": "markdown",
      "metadata": {
        "nteract": {
          "transient": {
            "deleting": false
          }
        }
      },
      "source": [
        "### Exploring the outputs and logs of a run"
      ]
    },
    {
      "cell_type": "code",
      "execution_count": null,
      "metadata": {
        "collapsed": true,
        "gather": {
          "logged": 1627363885549
        },
        "jupyter": {
          "outputs_hidden": false,
          "source_hidden": false
        },
        "nteract": {
          "transient": {
            "deleting": false
          }
        }
      },
      "outputs": [],
      "source": [
        "from azureml.widgets import RunDetails\n",
        "\n",
        "run = exp.submit(script)\n",
        "RunDetails(run).show()"
      ]
    },
    {
      "cell_type": "code",
      "execution_count": null,
      "metadata": {
        "collapsed": true,
        "gather": {
          "logged": 1627363944979
        },
        "jupyter": {
          "outputs_hidden": false,
          "source_hidden": false
        },
        "nteract": {
          "transient": {
            "deleting": false
          }
        }
      },
      "outputs": [],
      "source": [
        "run.get_details_with_logs()"
      ]
    },
    {
      "cell_type": "markdown",
      "metadata": {
        "nteract": {
          "transient": {
            "deleting": false
          }
        }
      },
      "source": [
        "### Understanding execution environments"
      ]
    },
    {
      "cell_type": "code",
      "execution_count": null,
      "metadata": {
        "collapsed": true,
        "gather": {
          "logged": 1627356398679
        },
        "jupyter": {
          "outputs_hidden": false,
          "source_hidden": false
        },
        "nteract": {
          "transient": {
            "deleting": false
          }
        }
      },
      "outputs": [],
      "source": [
        "from azureml.core import Workspace\n",
        "\n",
        "ws = Workspace.from_config()"
      ]
    },
    {
      "cell_type": "code",
      "execution_count": null,
      "metadata": {
        "collapsed": true,
        "gather": {
          "logged": 1627356422235
        },
        "jupyter": {
          "outputs_hidden": false,
          "source_hidden": false
        },
        "nteract": {
          "transient": {
            "deleting": false
          }
        }
      },
      "outputs": [],
      "source": [
        "from azureml.core import Environment\n",
        "\n",
        "minimal_env = Environment.get(ws, name=\"AzureML-Minimal\")\n",
        "\n",
        "print(minimal_env.name, minimal_env.version)\n",
        "print(minimal_env.python.conda_dependencies.serialize_to_string())"
      ]
    },
    {
      "cell_type": "code",
      "execution_count": null,
      "metadata": {
        "collapsed": true,
        "gather": {
          "logged": 1627356849843
        },
        "jupyter": {
          "outputs_hidden": false,
          "source_hidden": false
        },
        "nteract": {
          "transient": {
            "deleting": false
          }
        }
      },
      "outputs": [],
      "source": [
        "from azureml.core import Experiment, ScriptRunConfig\n",
        "\n",
        "target = ws.compute_targets['cpu-sm-cluster']\n",
        "\n",
        "script = ScriptRunConfig(\n",
        "    source_directory='greeter-job',\n",
        "    script='greeter.py',\n",
        "    environment=minimal_env,\n",
        "    compute_target=target,\n",
        "    arguments=['--greet-name', 'packt']\n",
        ")\n",
        "\n",
        "exp = Experiment(ws, 'greet-packt')\n",
        "run = exp.submit(script)\n",
        "print(run.get_portal_url())\n",
        "run.wait_for_completion(show_output=True)"
      ]
    },
    {
      "cell_type": "code",
      "execution_count": null,
      "metadata": {
        "collapsed": true,
        "gather": {
          "logged": 1627357987007
        },
        "jupyter": {
          "outputs_hidden": false,
          "source_hidden": false
        },
        "nteract": {
          "transient": {
            "deleting": false
          }
        }
      },
      "outputs": [],
      "source": [
        "from azureml.core import Environment\n",
        "\n",
        "banner_env = Environment.from_conda_specification(\n",
        "                            name = \"banner-env\",\n",
        "                            file_path = \"greeter-banner-job.yml\")\n",
        "banner_env.environment_variables[\"GREET_HEADER\"] = \\\n",
        "                                 \"Env. var. header:\""
      ]
    },
    {
      "cell_type": "code",
      "execution_count": null,
      "metadata": {
        "collapsed": true,
        "gather": {
          "logged": 1627358299508
        },
        "jupyter": {
          "outputs_hidden": false,
          "source_hidden": false
        },
        "nteract": {
          "transient": {
            "deleting": false
          }
        }
      },
      "outputs": [],
      "source": [
        "# To register in the workspace, uncomment the following line\n",
        "# banner_env.register(ws)"
      ]
    },
    {
      "cell_type": "code",
      "execution_count": null,
      "metadata": {
        "collapsed": true,
        "gather": {
          "logged": 1627358346712
        },
        "jupyter": {
          "outputs_hidden": false,
          "source_hidden": false
        },
        "nteract": {
          "transient": {
            "deleting": false
          }
        }
      },
      "outputs": [],
      "source": [
        "script = ScriptRunConfig(\n",
        "    source_directory='greeter-banner-job',\n",
        "    script='greeter.py',\n",
        "    environment=banner_env,\n",
        "    compute_target=target,\n",
        "    arguments=['--greet-name', 'packt']\n",
        ")\n",
        "\n",
        "exp = Experiment(ws, 'greet-packt')\n",
        "run = exp.submit(script)\n",
        "print(run.get_portal_url())\n",
        "run.wait_for_completion(show_output=True)"
      ]
    },
    {
      "cell_type": "markdown",
      "metadata": {
        "nteract": {
          "transient": {
            "deleting": false
          }
        }
      },
      "source": [
        "### Training the diabetes model on a compute cluster"
      ]
    },
    {
      "cell_type": "code",
      "execution_count": null,
      "metadata": {
        "collapsed": true,
        "jupyter": {
          "outputs_hidden": false,
          "source_hidden": false
        },
        "nteract": {
          "transient": {
            "deleting": false
          }
        }
      },
      "outputs": [],
      "source": [
        "!pip show scikit-learn"
      ]
    },
    {
      "cell_type": "code",
      "execution_count": null,
      "metadata": {
        "collapsed": true,
        "gather": {
          "logged": 1627360078695
        },
        "jupyter": {
          "outputs_hidden": false,
          "source_hidden": false
        },
        "nteract": {
          "transient": {
            "deleting": false
          }
        }
      },
      "outputs": [],
      "source": [
        "import sklearn\n",
        "print(sklearn.__version__)"
      ]
    },
    {
      "cell_type": "code",
      "execution_count": null,
      "metadata": {
        "collapsed": true,
        "gather": {
          "logged": 1630829893977
        },
        "jupyter": {
          "outputs_hidden": false,
          "source_hidden": false
        },
        "nteract": {
          "transient": {
            "deleting": false
          }
        }
      },
      "outputs": [],
      "source": [
        "from azureml.core import Environment\n",
        "from azureml.core.conda_dependencies import CondaDependencies \n",
        "import sklearn\n",
        "\n",
        "diabetes_env = Environment(name=\"diabetes-training-env\")\n",
        "diabetes_env.python.conda_dependencies = CondaDependencies()\n",
        "diabetes_env.python.conda_dependencies.add_conda_package(f\"scikit-learn=={sklearn.__version__}\")\n",
        "diabetes_env.python.conda_dependencies.add_pip_package(\"azureml-dataset-runtime[pandas]\")\n",
        "# Optionally \n",
        "# import joblib\n",
        "# diabetes_env.python.conda_dependencies.add_pip_package(f\"joblib=={joblib.__version__}\")\n",
        "# Alternatively you can use the following single line code:\n",
        "# diabetes_env.python.conda_dependencies = CondaDependencies.create(\n",
        "#               conda_packages=[f\"scikit-learn=={sklearn.__version__}\"],\n",
        "#               pip_packages=[\"azureml-dataset-runtime[pandas]\", f\"joblib=={joblib.__version__}\"])"
      ]
    },
    {
      "cell_type": "code",
      "execution_count": null,
      "metadata": {
        "collapsed": true,
        "gather": {
          "logged": 1630830722464
        },
        "jupyter": {
          "outputs_hidden": false,
          "source_hidden": false
        },
        "nteract": {
          "transient": {
            "deleting": false
          }
        }
      },
      "outputs": [],
      "source": [
        "from azureml.core import Workspace, Experiment\n",
        "from azureml.core import ScriptRunConfig\n",
        "\n",
        "ws = Workspace.from_config()\n",
        "target = ws.compute_targets['cpu-sm-cluster']\n",
        "\n",
        "script = ScriptRunConfig(\n",
        "    source_directory='diabetes-training',\n",
        "    script='training.py',\n",
        "    environment=diabetes_env,\n",
        "    compute_target=target,\n",
        "    arguments=['--alpha', 0.01]\n",
        ")\n",
        "\n",
        "exp = Experiment(ws, 'chapter08-diabetes')\n",
        "run = exp.submit(script)\n",
        "run.wait_for_completion(show_output=True)"
      ]
    }
  ],
  "metadata": {
    "kernel_info": {
      "name": "python3-azureml"
    },
    "kernelspec": {
      "display_name": "Python 3.6 - AzureML",
      "language": "python",
      "name": "python3-azureml"
    },
    "language_info": {
      "codemirror_mode": {
        "name": "ipython",
        "version": 3
      },
      "file_extension": ".py",
      "mimetype": "text/x-python",
      "name": "python",
      "nbconvert_exporter": "python",
      "pygments_lexer": "ipython3",
      "version": "3.6.9"
    },
    "microsoft": {
      "host": {
        "AzureML": {
          "notebookHasBeenCompleted": true
        }
      }
    },
    "nteract": {
      "version": "nteract-front-end@1.0.0"
    }
  },
  "nbformat": 4,
  "nbformat_minor": 2
}
